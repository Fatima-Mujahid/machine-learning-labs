{
  "nbformat": 4,
  "nbformat_minor": 0,
  "metadata": {
    "colab": {
      "name": "Lab1_289558_FatimaMujahid.ipynb",
      "provenance": [],
      "collapsed_sections": []
    },
    "kernelspec": {
      "name": "python3",
      "display_name": "Python 3"
    },
    "language_info": {
      "name": "python"
    }
  },
  "cells": [
    {
      "cell_type": "markdown",
      "source": [
        "# Machine Learning Lab 1\n",
        "Decision Trees on UCI data"
      ],
      "metadata": {
        "id": "0wVqIjPVP1-J"
      }
    },
    {
      "cell_type": "markdown",
      "source": [
        "**Name:** Fatima Mujahid\n",
        "\n",
        "**Class:** BESE-10B\n",
        "\n",
        "**CMS ID:** 289558\n",
        "\n",
        "**Date:** February 17, 2021"
      ],
      "metadata": {
        "id": "EcBNMaw7P3n8"
      }
    },
    {
      "cell_type": "markdown",
      "source": [
        "# Monks Problems Dataset\n",
        "\n",
        "58 % 21 = 16\n",
        "\n",
        "Dataset is 16_monks-problems-3.csv"
      ],
      "metadata": {
        "id": "BPnd7RB2P8t7"
      }
    },
    {
      "cell_type": "markdown",
      "source": [
        "# Importing modules"
      ],
      "metadata": {
        "id": "RpqO7uvcQAV-"
      }
    },
    {
      "cell_type": "code",
      "execution_count": null,
      "metadata": {
        "id": "kZnFiQYPL6f4"
      },
      "outputs": [],
      "source": [
        "import pandas as pd\n",
        "import numpy as np\n",
        "import matplotlib.pyplot as plt\n",
        "import graphviz\n",
        "from sklearn import tree\n",
        "from sklearn.model_selection import train_test_split\n",
        "from sklearn.metrics import accuracy_score\n",
        "from sklearn.tree import DecisionTreeClassifier"
      ]
    },
    {
      "cell_type": "markdown",
      "source": [
        "# Reading csv file"
      ],
      "metadata": {
        "id": "2du1Jm3KP1kb"
      }
    },
    {
      "cell_type": "code",
      "source": [
        "data = pd.read_csv(\"16_monks-problems-3.csv\", sep=\";\")\n",
        "data.head()"
      ],
      "metadata": {
        "colab": {
          "base_uri": "https://localhost:8080/",
          "height": 206
        },
        "id": "Dg_Zw7DGP5cP",
        "outputId": "e9fc6e24-d168-4d79-9231-c2e61b41e201"
      },
      "execution_count": null,
      "outputs": [
        {
          "output_type": "execute_result",
          "data": {
            "text/html": [
              "\n",
              "  <div id=\"df-4c7ece34-2dcf-499e-9635-b07982f6fe1f\">\n",
              "    <div class=\"colab-df-container\">\n",
              "      <div>\n",
              "<style scoped>\n",
              "    .dataframe tbody tr th:only-of-type {\n",
              "        vertical-align: middle;\n",
              "    }\n",
              "\n",
              "    .dataframe tbody tr th {\n",
              "        vertical-align: top;\n",
              "    }\n",
              "\n",
              "    .dataframe thead th {\n",
              "        text-align: right;\n",
              "    }\n",
              "</style>\n",
              "<table border=\"1\" class=\"dataframe\">\n",
              "  <thead>\n",
              "    <tr style=\"text-align: right;\">\n",
              "      <th></th>\n",
              "      <th>att1</th>\n",
              "      <th>att2</th>\n",
              "      <th>att3</th>\n",
              "      <th>att4</th>\n",
              "      <th>att5</th>\n",
              "      <th>att6</th>\n",
              "      <th>att7</th>\n",
              "      <th>att8</th>\n",
              "      <th>att9</th>\n",
              "      <th>att10</th>\n",
              "      <th>att11</th>\n",
              "      <th>att12</th>\n",
              "      <th>att13</th>\n",
              "      <th>att14</th>\n",
              "      <th>att15</th>\n",
              "      <th>att16</th>\n",
              "      <th>att17</th>\n",
              "      <th>label</th>\n",
              "    </tr>\n",
              "  </thead>\n",
              "  <tbody>\n",
              "    <tr>\n",
              "      <th>0</th>\n",
              "      <td>1.0</td>\n",
              "      <td>-1.0</td>\n",
              "      <td>-1.0</td>\n",
              "      <td>1.0</td>\n",
              "      <td>-1.0</td>\n",
              "      <td>-1.0</td>\n",
              "      <td>1.0</td>\n",
              "      <td>-1.0</td>\n",
              "      <td>1.0</td>\n",
              "      <td>-1.0</td>\n",
              "      <td>-1.0</td>\n",
              "      <td>1.0</td>\n",
              "      <td>-1.0</td>\n",
              "      <td>-1.0</td>\n",
              "      <td>-1.0</td>\n",
              "      <td>1.0</td>\n",
              "      <td>-1.0</td>\n",
              "      <td>1</td>\n",
              "    </tr>\n",
              "    <tr>\n",
              "      <th>1</th>\n",
              "      <td>1.0</td>\n",
              "      <td>-1.0</td>\n",
              "      <td>-1.0</td>\n",
              "      <td>1.0</td>\n",
              "      <td>-1.0</td>\n",
              "      <td>-1.0</td>\n",
              "      <td>1.0</td>\n",
              "      <td>-1.0</td>\n",
              "      <td>1.0</td>\n",
              "      <td>-1.0</td>\n",
              "      <td>-1.0</td>\n",
              "      <td>1.0</td>\n",
              "      <td>-1.0</td>\n",
              "      <td>-1.0</td>\n",
              "      <td>-1.0</td>\n",
              "      <td>-1.0</td>\n",
              "      <td>1.0</td>\n",
              "      <td>1</td>\n",
              "    </tr>\n",
              "    <tr>\n",
              "      <th>2</th>\n",
              "      <td>1.0</td>\n",
              "      <td>-1.0</td>\n",
              "      <td>-1.0</td>\n",
              "      <td>1.0</td>\n",
              "      <td>-1.0</td>\n",
              "      <td>-1.0</td>\n",
              "      <td>1.0</td>\n",
              "      <td>-1.0</td>\n",
              "      <td>1.0</td>\n",
              "      <td>-1.0</td>\n",
              "      <td>-1.0</td>\n",
              "      <td>-1.0</td>\n",
              "      <td>1.0</td>\n",
              "      <td>-1.0</td>\n",
              "      <td>-1.0</td>\n",
              "      <td>1.0</td>\n",
              "      <td>-1.0</td>\n",
              "      <td>1</td>\n",
              "    </tr>\n",
              "    <tr>\n",
              "      <th>3</th>\n",
              "      <td>1.0</td>\n",
              "      <td>-1.0</td>\n",
              "      <td>-1.0</td>\n",
              "      <td>1.0</td>\n",
              "      <td>-1.0</td>\n",
              "      <td>-1.0</td>\n",
              "      <td>1.0</td>\n",
              "      <td>-1.0</td>\n",
              "      <td>1.0</td>\n",
              "      <td>-1.0</td>\n",
              "      <td>-1.0</td>\n",
              "      <td>-1.0</td>\n",
              "      <td>1.0</td>\n",
              "      <td>-1.0</td>\n",
              "      <td>-1.0</td>\n",
              "      <td>-1.0</td>\n",
              "      <td>1.0</td>\n",
              "      <td>1</td>\n",
              "    </tr>\n",
              "    <tr>\n",
              "      <th>4</th>\n",
              "      <td>1.0</td>\n",
              "      <td>-1.0</td>\n",
              "      <td>-1.0</td>\n",
              "      <td>1.0</td>\n",
              "      <td>-1.0</td>\n",
              "      <td>-1.0</td>\n",
              "      <td>1.0</td>\n",
              "      <td>-1.0</td>\n",
              "      <td>1.0</td>\n",
              "      <td>-1.0</td>\n",
              "      <td>-1.0</td>\n",
              "      <td>-1.0</td>\n",
              "      <td>-1.0</td>\n",
              "      <td>1.0</td>\n",
              "      <td>-1.0</td>\n",
              "      <td>1.0</td>\n",
              "      <td>-1.0</td>\n",
              "      <td>1</td>\n",
              "    </tr>\n",
              "  </tbody>\n",
              "</table>\n",
              "</div>\n",
              "      <button class=\"colab-df-convert\" onclick=\"convertToInteractive('df-4c7ece34-2dcf-499e-9635-b07982f6fe1f')\"\n",
              "              title=\"Convert this dataframe to an interactive table.\"\n",
              "              style=\"display:none;\">\n",
              "        \n",
              "  <svg xmlns=\"http://www.w3.org/2000/svg\" height=\"24px\"viewBox=\"0 0 24 24\"\n",
              "       width=\"24px\">\n",
              "    <path d=\"M0 0h24v24H0V0z\" fill=\"none\"/>\n",
              "    <path d=\"M18.56 5.44l.94 2.06.94-2.06 2.06-.94-2.06-.94-.94-2.06-.94 2.06-2.06.94zm-11 1L8.5 8.5l.94-2.06 2.06-.94-2.06-.94L8.5 2.5l-.94 2.06-2.06.94zm10 10l.94 2.06.94-2.06 2.06-.94-2.06-.94-.94-2.06-.94 2.06-2.06.94z\"/><path d=\"M17.41 7.96l-1.37-1.37c-.4-.4-.92-.59-1.43-.59-.52 0-1.04.2-1.43.59L10.3 9.45l-7.72 7.72c-.78.78-.78 2.05 0 2.83L4 21.41c.39.39.9.59 1.41.59.51 0 1.02-.2 1.41-.59l7.78-7.78 2.81-2.81c.8-.78.8-2.07 0-2.86zM5.41 20L4 18.59l7.72-7.72 1.47 1.35L5.41 20z\"/>\n",
              "  </svg>\n",
              "      </button>\n",
              "      \n",
              "  <style>\n",
              "    .colab-df-container {\n",
              "      display:flex;\n",
              "      flex-wrap:wrap;\n",
              "      gap: 12px;\n",
              "    }\n",
              "\n",
              "    .colab-df-convert {\n",
              "      background-color: #E8F0FE;\n",
              "      border: none;\n",
              "      border-radius: 50%;\n",
              "      cursor: pointer;\n",
              "      display: none;\n",
              "      fill: #1967D2;\n",
              "      height: 32px;\n",
              "      padding: 0 0 0 0;\n",
              "      width: 32px;\n",
              "    }\n",
              "\n",
              "    .colab-df-convert:hover {\n",
              "      background-color: #E2EBFA;\n",
              "      box-shadow: 0px 1px 2px rgba(60, 64, 67, 0.3), 0px 1px 3px 1px rgba(60, 64, 67, 0.15);\n",
              "      fill: #174EA6;\n",
              "    }\n",
              "\n",
              "    [theme=dark] .colab-df-convert {\n",
              "      background-color: #3B4455;\n",
              "      fill: #D2E3FC;\n",
              "    }\n",
              "\n",
              "    [theme=dark] .colab-df-convert:hover {\n",
              "      background-color: #434B5C;\n",
              "      box-shadow: 0px 1px 3px 1px rgba(0, 0, 0, 0.15);\n",
              "      filter: drop-shadow(0px 1px 2px rgba(0, 0, 0, 0.3));\n",
              "      fill: #FFFFFF;\n",
              "    }\n",
              "  </style>\n",
              "\n",
              "      <script>\n",
              "        const buttonEl =\n",
              "          document.querySelector('#df-4c7ece34-2dcf-499e-9635-b07982f6fe1f button.colab-df-convert');\n",
              "        buttonEl.style.display =\n",
              "          google.colab.kernel.accessAllowed ? 'block' : 'none';\n",
              "\n",
              "        async function convertToInteractive(key) {\n",
              "          const element = document.querySelector('#df-4c7ece34-2dcf-499e-9635-b07982f6fe1f');\n",
              "          const dataTable =\n",
              "            await google.colab.kernel.invokeFunction('convertToInteractive',\n",
              "                                                     [key], {});\n",
              "          if (!dataTable) return;\n",
              "\n",
              "          const docLinkHtml = 'Like what you see? Visit the ' +\n",
              "            '<a target=\"_blank\" href=https://colab.research.google.com/notebooks/data_table.ipynb>data table notebook</a>'\n",
              "            + ' to learn more about interactive tables.';\n",
              "          element.innerHTML = '';\n",
              "          dataTable['output_type'] = 'display_data';\n",
              "          await google.colab.output.renderOutput(dataTable, element);\n",
              "          const docLink = document.createElement('div');\n",
              "          docLink.innerHTML = docLinkHtml;\n",
              "          element.appendChild(docLink);\n",
              "        }\n",
              "      </script>\n",
              "    </div>\n",
              "  </div>\n",
              "  "
            ],
            "text/plain": [
              "   att1  att2  att3  att4  att5  att6  ...  att13  att14  att15  att16  att17  label\n",
              "0   1.0  -1.0  -1.0   1.0  -1.0  -1.0  ...   -1.0   -1.0   -1.0    1.0   -1.0      1\n",
              "1   1.0  -1.0  -1.0   1.0  -1.0  -1.0  ...   -1.0   -1.0   -1.0   -1.0    1.0      1\n",
              "2   1.0  -1.0  -1.0   1.0  -1.0  -1.0  ...    1.0   -1.0   -1.0    1.0   -1.0      1\n",
              "3   1.0  -1.0  -1.0   1.0  -1.0  -1.0  ...    1.0   -1.0   -1.0   -1.0    1.0      1\n",
              "4   1.0  -1.0  -1.0   1.0  -1.0  -1.0  ...   -1.0    1.0   -1.0    1.0   -1.0      1\n",
              "\n",
              "[5 rows x 18 columns]"
            ]
          },
          "metadata": {},
          "execution_count": 360
        }
      ]
    },
    {
      "cell_type": "markdown",
      "source": [
        "# Partitioning the dataset"
      ],
      "metadata": {
        "id": "D4FjoXa6QsGv"
      }
    },
    {
      "cell_type": "code",
      "source": [
        "X = data.iloc[:, :-1]\n",
        "y = data.iloc[:, -1]"
      ],
      "metadata": {
        "id": "Dy6yGrTVTaFA"
      },
      "execution_count": null,
      "outputs": []
    },
    {
      "cell_type": "code",
      "source": [
        "X_train, X_test, y_train, y_test = train_test_split(X, y, test_size=0.20)"
      ],
      "metadata": {
        "id": "dDJTNxexcW9F"
      },
      "execution_count": null,
      "outputs": []
    },
    {
      "cell_type": "markdown",
      "source": [
        "# Applying DecisionTreeClassifier"
      ],
      "metadata": {
        "id": "-WbZ4vgOVwlw"
      }
    },
    {
      "cell_type": "code",
      "source": [
        "clf = DecisionTreeClassifier(criterion=\"entropy\")\n",
        "clf.fit(X_train, y_train)"
      ],
      "metadata": {
        "colab": {
          "base_uri": "https://localhost:8080/"
        },
        "id": "BWXT6LF3Xii6",
        "outputId": "d8b26f64-247d-4e5e-a525-dfede9473fac"
      },
      "execution_count": null,
      "outputs": [
        {
          "output_type": "execute_result",
          "data": {
            "text/plain": [
              "DecisionTreeClassifier(criterion='entropy')"
            ]
          },
          "metadata": {},
          "execution_count": 363
        }
      ]
    },
    {
      "cell_type": "code",
      "source": [
        "y_pred_train = clf.predict(X_train)\n",
        "y_pred_test = clf.predict(X_test)"
      ],
      "metadata": {
        "id": "V9JssvU2X2ZD"
      },
      "execution_count": null,
      "outputs": []
    },
    {
      "cell_type": "markdown",
      "source": [
        "# Printing the accuracy for train and test"
      ],
      "metadata": {
        "id": "_P3t0l9LVgqb"
      }
    },
    {
      "cell_type": "code",
      "source": [
        "print(\"Training Accuracy is \", accuracy_score(y_train, y_pred_train)*100, \"%\")\n",
        "print(\"Testing Accuracy is \", accuracy_score(y_test, y_pred_test)*100, \"%\")"
      ],
      "metadata": {
        "colab": {
          "base_uri": "https://localhost:8080/"
        },
        "id": "oHKQjRZTXw50",
        "outputId": "8b9e642d-c532-47f0-9603-f1e31b2b21ac"
      },
      "execution_count": null,
      "outputs": [
        {
          "output_type": "stream",
          "name": "stdout",
          "text": [
            "Training Accuracy is  100.0 %\n",
            "Testing Accuracy is  100.0 %\n"
          ]
        }
      ]
    },
    {
      "cell_type": "markdown",
      "source": [
        "# Varying the depth of decision tree"
      ],
      "metadata": {
        "id": "-qyaqDFnVITK"
      }
    },
    {
      "cell_type": "code",
      "source": [
        "train_errors = list()\n",
        "test_errors = list()\n",
        "for x in range(1, 18):\n",
        "  clf = DecisionTreeClassifier(criterion=\"entropy\", max_depth=x)\n",
        "  clf.fit(X_train, y_train)\n",
        "  y_pred_train = clf.predict(X_train)\n",
        "  y_pred_test = clf.predict(X_test)\n",
        "  train_error = 1 - accuracy_score(y_train, y_pred_train) \n",
        "  test_error = 1 - accuracy_score(y_test, y_pred_test)\n",
        "  train_errors.append(train_error)\n",
        "  test_errors.append(test_error)"
      ],
      "metadata": {
        "id": "5yTmJR-OSXLn"
      },
      "execution_count": null,
      "outputs": []
    },
    {
      "cell_type": "markdown",
      "source": [
        "# Generating plot"
      ],
      "metadata": {
        "id": "fvE_NDL5VAr9"
      }
    },
    {
      "cell_type": "code",
      "source": [
        "depths = range(1, 18)\n",
        "plt.figure()\n",
        "plt.plot(depths, train_errors, 'b')\n",
        "plt.plot(depths, test_errors, 'r')\n",
        "plt.title('Model Errors')\n",
        "plt.ylabel('Error')\n",
        "plt.xlabel('Depth')\n",
        "plt.legend(['train_error','test_error'])\n",
        "plt.grid()\n",
        "plt.show()"
      ],
      "metadata": {
        "colab": {
          "base_uri": "https://localhost:8080/",
          "height": 295
        },
        "id": "VBE4POJnwOf9",
        "outputId": "da91dade-6237-4344-a572-eac4529f9b4f"
      },
      "execution_count": null,
      "outputs": [
        {
          "output_type": "display_data",
          "data": {
            "image/png": "[encoded data removed]",
            "text/plain": [
              "<Figure size 432x288 with 1 Axes>"
            ]
          },
          "metadata": {
            "needs_background": "light"
          }
        }
      ]
    },
    {
      "cell_type": "markdown",
      "source": [
        "# Best depth to avoid overfitting\n",
        "\n",
        "From the graph above it is clear that the maximum depth to avoid overfitting should be 2. As after 2 the train and test errors are remaining almost 0 and the model is likely to overfit.\n",
        "\n"
      ],
      "metadata": {
        "id": "1rKkkOYVUqc1"
      }
    },
    {
      "cell_type": "markdown",
      "source": [
        "# Visualizing the decision tree"
      ],
      "metadata": {
        "id": "siq08Q3-UPFp"
      }
    },
    {
      "cell_type": "code",
      "source": [
        "graph_data = tree.export_graphviz(clf, out_file=None, filled=True, rounded=True)  \n",
        "graph = graphviz.Source(graph_data)  \n",
        "graph "
      ],
      "metadata": {
        "colab": {
          "base_uri": "https://localhost:8080/",
          "height": 657
        },
        "id": "QIJ7E0zN4YYW",
        "outputId": "a70c3e25-5d87-4edf-b515-9c092518369d"
      },
      "execution_count": null,
      "outputs": [
        {
          "output_type": "execute_result",
          "data": {
            "text/plain": [
              "<graphviz.files.Source at 0x7f44b47b0950>"
            ],
            "image/svg+xml": "<?xml version=\"1.0\" encoding=\"UTF-8\" standalone=\"no\"?>\n<!DOCTYPE svg PUBLIC \"-//W3C//DTD SVG 1.1//EN\"\n \"http://www.w3.org/Graphics/SVG/1.1/DTD/svg11.dtd\">\n<!-- Generated by graphviz version 2.40.1 (20161225.0304)\n -->\n<!-- Title: Tree Pages: 1 -->\n<svg width=\"378pt\" height=\"477pt\"\n viewBox=\"0.00 0.00 377.50 477.00\" xmlns=\"http://www.w3.org/2000/svg\" xmlns:xlink=\"http://www.w3.org/1999/xlink\">\n<g id=\"graph0\" class=\"graph\" transform=\"scale(1 1) rotate(0) translate(4 473)\">\n<title>Tree</title>\n<polygon fill=\"#ffffff\" stroke=\"transparent\" points=\"-4,4 -4,-473 373.5,-473 373.5,4 -4,4\"/>\n<!-- 0 -->\n<g id=\"node1\" class=\"node\">\n<title>0</title>\n<path fill=\"#fefeff\" stroke=\"#000000\" d=\"M246,-469C246,-469 138,-469 138,-469 132,-469 126,-463 126,-457 126,-457 126,-413 126,-413 126,-407 132,-401 138,-401 138,-401 246,-401 246,-401 252,-401 258,-407 258,-413 258,-413 258,-457 258,-457 258,-463 252,-469 246,-469\"/>\n<text text-anchor=\"middle\" x=\"192\" y=\"-453.8\" font-family=\"Helvetica,sans-Serif\" font-size=\"14.00\" fill=\"#000000\">X[14] &lt;= 0.0</text>\n<text text-anchor=\"middle\" x=\"192\" y=\"-438.8\" font-family=\"Helvetica,sans-Serif\" font-size=\"14.00\" fill=\"#000000\">entropy = 1.0</text>\n<text text-anchor=\"middle\" x=\"192\" y=\"-423.8\" font-family=\"Helvetica,sans-Serif\" font-size=\"14.00\" fill=\"#000000\">samples = 345</text>\n<text text-anchor=\"middle\" x=\"192\" y=\"-408.8\" font-family=\"Helvetica,sans-Serif\" font-size=\"14.00\" fill=\"#000000\">value = [172, 173]</text>\n</g>\n<!-- 1 -->\n<g id=\"node2\" class=\"node\">\n<title>1</title>\n<path fill=\"#90c8f0\" stroke=\"#000000\" d=\"M175,-365C175,-365 75,-365 75,-365 69,-365 63,-359 63,-353 63,-353 63,-309 63,-309 63,-303 69,-297 75,-297 75,-297 175,-297 175,-297 181,-297 187,-303 187,-309 187,-309 187,-353 187,-353 187,-359 181,-365 175,-365\"/>\n<text text-anchor=\"middle\" x=\"125\" y=\"-349.8\" font-family=\"Helvetica,sans-Serif\" font-size=\"14.00\" fill=\"#000000\">X[5] &lt;= 0.0</text>\n<text text-anchor=\"middle\" x=\"125\" y=\"-334.8\" font-family=\"Helvetica,sans-Serif\" font-size=\"14.00\" fill=\"#000000\">entropy = 0.888</text>\n<text text-anchor=\"middle\" x=\"125\" y=\"-319.8\" font-family=\"Helvetica,sans-Serif\" font-size=\"14.00\" fill=\"#000000\">samples = 249</text>\n<text text-anchor=\"middle\" x=\"125\" y=\"-304.8\" font-family=\"Helvetica,sans-Serif\" font-size=\"14.00\" fill=\"#000000\">value = [76, 173]</text>\n</g>\n<!-- 0&#45;&gt;1 -->\n<g id=\"edge1\" class=\"edge\">\n<title>0&#45;&gt;1</title>\n<path fill=\"none\" stroke=\"#000000\" d=\"M170.0617,-400.9465C164.451,-392.2373 158.3471,-382.7626 152.4958,-373.6801\"/>\n<polygon fill=\"#000000\" stroke=\"#000000\" points=\"155.3457,-371.641 146.9876,-365.13 149.4611,-375.4321 155.3457,-371.641\"/>\n<text text-anchor=\"middle\" x=\"141.7006\" y=\"-385.8646\" font-family=\"Helvetica,sans-Serif\" font-size=\"14.00\" fill=\"#000000\">True</text>\n</g>\n<!-- 8 -->\n<g id=\"node9\" class=\"node\">\n<title>8</title>\n<path fill=\"#e58139\" stroke=\"#000000\" d=\"M300.5,-357.5C300.5,-357.5 217.5,-357.5 217.5,-357.5 211.5,-357.5 205.5,-351.5 205.5,-345.5 205.5,-345.5 205.5,-316.5 205.5,-316.5 205.5,-310.5 211.5,-304.5 217.5,-304.5 217.5,-304.5 300.5,-304.5 300.5,-304.5 306.5,-304.5 312.5,-310.5 312.5,-316.5 312.5,-316.5 312.5,-345.5 312.5,-345.5 312.5,-351.5 306.5,-357.5 300.5,-357.5\"/>\n<text text-anchor=\"middle\" x=\"259\" y=\"-342.3\" font-family=\"Helvetica,sans-Serif\" font-size=\"14.00\" fill=\"#000000\">entropy = 0.0</text>\n<text text-anchor=\"middle\" x=\"259\" y=\"-327.3\" font-family=\"Helvetica,sans-Serif\" font-size=\"14.00\" fill=\"#000000\">samples = 96</text>\n<text text-anchor=\"middle\" x=\"259\" y=\"-312.3\" font-family=\"Helvetica,sans-Serif\" font-size=\"14.00\" fill=\"#000000\">value = [96, 0]</text>\n</g>\n<!-- 0&#45;&gt;8 -->\n<g id=\"edge8\" class=\"edge\">\n<title>0&#45;&gt;8</title>\n<path fill=\"none\" stroke=\"#000000\" d=\"M213.9383,-400.9465C221.1054,-389.8215 229.0773,-377.4473 236.2993,-366.237\"/>\n<polygon fill=\"#000000\" stroke=\"#000000\" points=\"239.4272,-367.8442 241.9007,-357.5422 233.5426,-364.0532 239.4272,-367.8442\"/>\n<text text-anchor=\"middle\" x=\"247.1877\" y=\"-378.2767\" font-family=\"Helvetica,sans-Serif\" font-size=\"14.00\" fill=\"#000000\">False</text>\n</g>\n<!-- 2 -->\n<g id=\"node3\" class=\"node\">\n<title>2</title>\n<path fill=\"#399de5\" stroke=\"#000000\" d=\"M104,-253.5C104,-253.5 12,-253.5 12,-253.5 6,-253.5 0,-247.5 0,-241.5 0,-241.5 0,-212.5 0,-212.5 0,-206.5 6,-200.5 12,-200.5 12,-200.5 104,-200.5 104,-200.5 110,-200.5 116,-206.5 116,-212.5 116,-212.5 116,-241.5 116,-241.5 116,-247.5 110,-253.5 104,-253.5\"/>\n<text text-anchor=\"middle\" x=\"58\" y=\"-238.3\" font-family=\"Helvetica,sans-Serif\" font-size=\"14.00\" fill=\"#000000\">entropy = 0.0</text>\n<text text-anchor=\"middle\" x=\"58\" y=\"-223.3\" font-family=\"Helvetica,sans-Serif\" font-size=\"14.00\" fill=\"#000000\">samples = 164</text>\n<text text-anchor=\"middle\" x=\"58\" y=\"-208.3\" font-family=\"Helvetica,sans-Serif\" font-size=\"14.00\" fill=\"#000000\">value = [0, 164]</text>\n</g>\n<!-- 1&#45;&gt;2 -->\n<g id=\"edge2\" class=\"edge\">\n<title>1&#45;&gt;2</title>\n<path fill=\"none\" stroke=\"#000000\" d=\"M103.0617,-296.9465C95.8946,-285.8215 87.9227,-273.4473 80.7007,-262.237\"/>\n<polygon fill=\"#000000\" stroke=\"#000000\" points=\"83.4574,-260.0532 75.0993,-253.5422 77.5728,-263.8442 83.4574,-260.0532\"/>\n</g>\n<!-- 3 -->\n<g id=\"node4\" class=\"node\">\n<title>3</title>\n<path fill=\"#e89050\" stroke=\"#000000\" d=\"M240,-261C240,-261 146,-261 146,-261 140,-261 134,-255 134,-249 134,-249 134,-205 134,-205 134,-199 140,-193 146,-193 146,-193 240,-193 240,-193 246,-193 252,-199 252,-205 252,-205 252,-249 252,-249 252,-255 246,-261 240,-261\"/>\n<text text-anchor=\"middle\" x=\"193\" y=\"-245.8\" font-family=\"Helvetica,sans-Serif\" font-size=\"14.00\" fill=\"#000000\">X[13] &lt;= 0.0</text>\n<text text-anchor=\"middle\" x=\"193\" y=\"-230.8\" font-family=\"Helvetica,sans-Serif\" font-size=\"14.00\" fill=\"#000000\">entropy = 0.487</text>\n<text text-anchor=\"middle\" x=\"193\" y=\"-215.8\" font-family=\"Helvetica,sans-Serif\" font-size=\"14.00\" fill=\"#000000\">samples = 85</text>\n<text text-anchor=\"middle\" x=\"193\" y=\"-200.8\" font-family=\"Helvetica,sans-Serif\" font-size=\"14.00\" fill=\"#000000\">value = [76, 9]</text>\n</g>\n<!-- 1&#45;&gt;3 -->\n<g id=\"edge3\" class=\"edge\">\n<title>1&#45;&gt;3</title>\n<path fill=\"none\" stroke=\"#000000\" d=\"M147.2657,-296.9465C152.9602,-288.2373 159.1552,-278.7626 165.0938,-269.6801\"/>\n<polygon fill=\"#000000\" stroke=\"#000000\" points=\"168.1411,-271.4151 170.6842,-261.13 162.2823,-267.5843 168.1411,-271.4151\"/>\n</g>\n<!-- 4 -->\n<g id=\"node5\" class=\"node\">\n<title>4</title>\n<path fill=\"#e58139\" stroke=\"#000000\" d=\"M168.5,-149.5C168.5,-149.5 85.5,-149.5 85.5,-149.5 79.5,-149.5 73.5,-143.5 73.5,-137.5 73.5,-137.5 73.5,-108.5 73.5,-108.5 73.5,-102.5 79.5,-96.5 85.5,-96.5 85.5,-96.5 168.5,-96.5 168.5,-96.5 174.5,-96.5 180.5,-102.5 180.5,-108.5 180.5,-108.5 180.5,-137.5 180.5,-137.5 180.5,-143.5 174.5,-149.5 168.5,-149.5\"/>\n<text text-anchor=\"middle\" x=\"127\" y=\"-134.3\" font-family=\"Helvetica,sans-Serif\" font-size=\"14.00\" fill=\"#000000\">entropy = 0.0</text>\n<text text-anchor=\"middle\" x=\"127\" y=\"-119.3\" font-family=\"Helvetica,sans-Serif\" font-size=\"14.00\" fill=\"#000000\">samples = 60</text>\n<text text-anchor=\"middle\" x=\"127\" y=\"-104.3\" font-family=\"Helvetica,sans-Serif\" font-size=\"14.00\" fill=\"#000000\">value = [60, 0]</text>\n</g>\n<!-- 3&#45;&gt;4 -->\n<g id=\"edge4\" class=\"edge\">\n<title>3&#45;&gt;4</title>\n<path fill=\"none\" stroke=\"#000000\" d=\"M171.3891,-192.9465C164.329,-181.8215 156.4761,-169.4473 149.3619,-158.237\"/>\n<polygon fill=\"#000000\" stroke=\"#000000\" points=\"152.1575,-156.1101 143.8441,-149.5422 146.2472,-159.8609 152.1575,-156.1101\"/>\n</g>\n<!-- 5 -->\n<g id=\"node6\" class=\"node\">\n<title>5</title>\n<path fill=\"#f4c8a8\" stroke=\"#000000\" d=\"M305,-157C305,-157 211,-157 211,-157 205,-157 199,-151 199,-145 199,-145 199,-101 199,-101 199,-95 205,-89 211,-89 211,-89 305,-89 305,-89 311,-89 317,-95 317,-101 317,-101 317,-145 317,-145 317,-151 311,-157 305,-157\"/>\n<text text-anchor=\"middle\" x=\"258\" y=\"-141.8\" font-family=\"Helvetica,sans-Serif\" font-size=\"14.00\" fill=\"#000000\">X[8] &lt;= 0.0</text>\n<text text-anchor=\"middle\" x=\"258\" y=\"-126.8\" font-family=\"Helvetica,sans-Serif\" font-size=\"14.00\" fill=\"#000000\">entropy = 0.943</text>\n<text text-anchor=\"middle\" x=\"258\" y=\"-111.8\" font-family=\"Helvetica,sans-Serif\" font-size=\"14.00\" fill=\"#000000\">samples = 25</text>\n<text text-anchor=\"middle\" x=\"258\" y=\"-96.8\" font-family=\"Helvetica,sans-Serif\" font-size=\"14.00\" fill=\"#000000\">value = [16, 9]</text>\n</g>\n<!-- 3&#45;&gt;5 -->\n<g id=\"edge5\" class=\"edge\">\n<title>3&#45;&gt;5</title>\n<path fill=\"none\" stroke=\"#000000\" d=\"M214.2834,-192.9465C219.7267,-184.2373 225.6484,-174.7626 231.325,-165.6801\"/>\n<polygon fill=\"#000000\" stroke=\"#000000\" points=\"234.3367,-167.465 236.6688,-157.13 228.4007,-163.755 234.3367,-167.465\"/>\n</g>\n<!-- 6 -->\n<g id=\"node7\" class=\"node\">\n<title>6</title>\n<path fill=\"#e58139\" stroke=\"#000000\" d=\"M238.5,-53C238.5,-53 155.5,-53 155.5,-53 149.5,-53 143.5,-47 143.5,-41 143.5,-41 143.5,-12 143.5,-12 143.5,-6 149.5,0 155.5,0 155.5,0 238.5,0 238.5,0 244.5,0 250.5,-6 250.5,-12 250.5,-12 250.5,-41 250.5,-41 250.5,-47 244.5,-53 238.5,-53\"/>\n<text text-anchor=\"middle\" x=\"197\" y=\"-37.8\" font-family=\"Helvetica,sans-Serif\" font-size=\"14.00\" fill=\"#000000\">entropy = 0.0</text>\n<text text-anchor=\"middle\" x=\"197\" y=\"-22.8\" font-family=\"Helvetica,sans-Serif\" font-size=\"14.00\" fill=\"#000000\">samples = 16</text>\n<text text-anchor=\"middle\" x=\"197\" y=\"-7.8\" font-family=\"Helvetica,sans-Serif\" font-size=\"14.00\" fill=\"#000000\">value = [16, 0]</text>\n</g>\n<!-- 5&#45;&gt;6 -->\n<g id=\"edge6\" class=\"edge\">\n<title>5&#45;&gt;6</title>\n<path fill=\"none\" stroke=\"#000000\" d=\"M236.4937,-88.9777C230.9369,-80.187 224.9427,-70.7044 219.3441,-61.8477\"/>\n<polygon fill=\"#000000\" stroke=\"#000000\" points=\"222.2101,-59.8312 213.9084,-53.2485 216.2931,-63.5714 222.2101,-59.8312\"/>\n</g>\n<!-- 7 -->\n<g id=\"node8\" class=\"node\">\n<title>7</title>\n<path fill=\"#399de5\" stroke=\"#000000\" d=\"M357.5,-53C357.5,-53 280.5,-53 280.5,-53 274.5,-53 268.5,-47 268.5,-41 268.5,-41 268.5,-12 268.5,-12 268.5,-6 274.5,0 280.5,0 280.5,0 357.5,0 357.5,0 363.5,0 369.5,-6 369.5,-12 369.5,-12 369.5,-41 369.5,-41 369.5,-47 363.5,-53 357.5,-53\"/>\n<text text-anchor=\"middle\" x=\"319\" y=\"-37.8\" font-family=\"Helvetica,sans-Serif\" font-size=\"14.00\" fill=\"#000000\">entropy = 0.0</text>\n<text text-anchor=\"middle\" x=\"319\" y=\"-22.8\" font-family=\"Helvetica,sans-Serif\" font-size=\"14.00\" fill=\"#000000\">samples = 9</text>\n<text text-anchor=\"middle\" x=\"319\" y=\"-7.8\" font-family=\"Helvetica,sans-Serif\" font-size=\"14.00\" fill=\"#000000\">value = [0, 9]</text>\n</g>\n<!-- 5&#45;&gt;7 -->\n<g id=\"edge7\" class=\"edge\">\n<title>5&#45;&gt;7</title>\n<path fill=\"none\" stroke=\"#000000\" d=\"M279.5063,-88.9777C285.0631,-80.187 291.0573,-70.7044 296.6559,-61.8477\"/>\n<polygon fill=\"#000000\" stroke=\"#000000\" points=\"299.7069,-63.5714 302.0916,-53.2485 293.7899,-59.8312 299.7069,-63.5714\"/>\n</g>\n</g>\n</svg>\n"
          },
          "metadata": {},
          "execution_count": 368
        }
      ]
    }
  ]
}