{
  "metadata": {
    "_change_revision": 0,
    "_is_fork": false,
    "kernelspec": {
      "display_name": "Python 3",
      "language": "python",
      "name": "python3"
    },
    "language_info": {
      "name": "python",
      "version": "3.7.12",
      "mimetype": "text/x-python",
      "codemirror_mode": {
        "name": "ipython",
        "version": 3
      },
      "pygments_lexer": "ipython3",
      "nbconvert_exporter": "python",
      "file_extension": ".py"
    },
    "colab": {
      "name": "Lab10_289558_FatimaMujahid.ipynb",
      "provenance": [],
      "collapsed_sections": []
    }
  },
  "nbformat_minor": 0,
  "nbformat": 4,
  "cells": [
    {
      "cell_type": "markdown",
      "source": [
        "# Machine Learning Lab 10\n",
        "Multilayer Perceptron"
      ],
      "metadata": {
        "id": "YTkWtfcCvCHl"
      }
    },
    {
      "cell_type": "markdown",
      "source": [
        "**Name:** Fatima Mujahid\n",
        "\n",
        "**Class:** BESE-10B\n",
        "\n",
        "**CMS ID:** 289558\n",
        "\n",
        "**Date:** May 13, 2022"
      ],
      "metadata": {
        "id": "RfmpujN2wBF2"
      }
    },
    {
      "cell_type": "markdown",
      "source": [
        "# Introduction"
      ],
      "metadata": {
        "_cell_guid": "1d11b71f-50b4-333e-a4f9-df2fb192a40a",
        "id": "Lt4tlBknA3i5"
      }
    },
    {
      "cell_type": "markdown",
      "source": [
        "The goal in this competition is to take an image of a handwritten single digit, and determine what that digit is.  \n",
        "\n",
        "The data is taken from the MNIST dataset. The MNIST (\"Modified National Institute of Standards and Technology\") dataset is a classic within the Machine Learning community that has been extensively studied.  More detail about the dataset, including Machine Learning algorithms that have been tried on it and their levels of success, can be found [here][1].\n",
        "\n",
        "\n",
        "  [1]: http://yann.lecun.com/exdb/mnist/index.html"
      ],
      "metadata": {
        "_cell_guid": "1e0a81f5-8486-c1ca-f5c5-bc723111da99",
        "id": "DWlVOdxWA3i-"
      }
    },
    {
      "cell_type": "markdown",
      "source": [
        "# Loading the data"
      ],
      "metadata": {
        "_cell_guid": "c7313b40-f504-5443-a468-008df68f59bb",
        "id": "EusAKEgvA3jB"
      }
    },
    {
      "cell_type": "code",
      "source": [
        "import numpy as np # Array manipulation\n",
        "import pandas as pd # Dataframe manipulation\n",
        "\n",
        "# Multilayer perceptron Neural Network\n",
        "from keras.models import Sequential\n",
        "from keras.layers import Dense\n",
        "from keras.layers import Dropout\n",
        "from keras.utils import np_utils"
      ],
      "metadata": {
        "_cell_guid": "ca99747a-0397-57e6-7129-375b1a05bd37",
        "execution": {
          "iopub.status.busy": "2022-02-25T07:59:09.746507Z",
          "iopub.execute_input": "2022-02-25T07:59:09.746876Z",
          "iopub.status.idle": "2022-02-25T07:59:15.897247Z",
          "shell.execute_reply.started": "2022-02-25T07:59:09.746837Z",
          "shell.execute_reply": "2022-02-25T07:59:15.896099Z"
        },
        "trusted": true,
        "id": "ORPV640oA3jC"
      },
      "execution_count": 38,
      "outputs": []
    },
    {
      "cell_type": "code",
      "source": [
        "# Load data\n",
        "train = pd.read_csv(\"train.csv\")\n",
        "test = pd.read_csv(\"test.csv\")\n",
        "\n",
        "# fix random seed for reproducibility\n",
        "seed = 7\n",
        "np.random.seed(seed)"
      ],
      "metadata": {
        "_cell_guid": "fa85554d-254d-fa59-4d9b-1499d77ef248",
        "execution": {
          "iopub.status.busy": "2022-02-25T07:59:15.899007Z",
          "iopub.execute_input": "2022-02-25T07:59:15.899284Z",
          "iopub.status.idle": "2022-02-25T07:59:21.844019Z",
          "shell.execute_reply.started": "2022-02-25T07:59:15.899252Z",
          "shell.execute_reply": "2022-02-25T07:59:21.842975Z"
        },
        "trusted": true,
        "id": "SjrCvIaqA3jF"
      },
      "execution_count": 39,
      "outputs": []
    },
    {
      "cell_type": "markdown",
      "source": [
        "Extract the features matrix X and transform it to an array of float numbers. And also extract the labels."
      ],
      "metadata": {
        "_cell_guid": "7af5f2b3-0855-5978-7d04-4da5974cf9d2",
        "id": "bO3I3_tZA3jH"
      }
    },
    {
      "cell_type": "code",
      "source": [
        "# Extract images pixels\n",
        "images = train.iloc[:,1:].values\n",
        "images = images.astype(np.float)\n",
        "\n",
        "# Extract numbers Labels\n",
        "labels = train.iloc[:,0].values"
      ],
      "metadata": {
        "_cell_guid": "5f0ab393-676b-74e8-a898-c3b32954b5c8",
        "execution": {
          "iopub.status.busy": "2022-02-25T07:59:24.374843Z",
          "iopub.execute_input": "2022-02-25T07:59:24.375164Z",
          "iopub.status.idle": "2022-02-25T07:59:24.501773Z",
          "shell.execute_reply.started": "2022-02-25T07:59:24.375130Z",
          "shell.execute_reply": "2022-02-25T07:59:24.500487Z"
        },
        "trusted": true,
        "id": "VQGGe35WA3jI",
        "colab": {
          "base_uri": "https://localhost:8080/"
        },
        "outputId": "534b991f-be2f-4cda-e074-323ea45eb061"
      },
      "execution_count": 40,
      "outputs": [
        {
          "output_type": "stream",
          "name": "stderr",
          "text": [
            "/usr/local/lib/python3.7/dist-packages/ipykernel_launcher.py:3: DeprecationWarning: `np.float` is a deprecated alias for the builtin `float`. To silence this warning, use `float` by itself. Doing this will not modify any behavior and is safe. If you specifically wanted the numpy scalar type, use `np.float64` here.\n",
            "Deprecated in NumPy 1.20; for more details and guidance: https://numpy.org/devdocs/release/1.20.0-notes.html#deprecations\n",
            "  This is separate from the ipykernel package so we can avoid doing imports until\n"
          ]
        }
      ]
    },
    {
      "cell_type": "markdown",
      "source": [
        "# Multilayer Perceptron"
      ],
      "metadata": {
        "_cell_guid": "64ce8b1d-bc53-14ea-bd99-e9dc559c3283",
        "id": "DJVUJsiZA3jJ"
      }
    },
    {
      "cell_type": "markdown",
      "source": [
        "## Preprocessing"
      ],
      "metadata": {
        "_cell_guid": "888840e0-cddb-2173-13f4-5f2b07c4b296",
        "id": "uI9NEg2lA3jK"
      }
    },
    {
      "cell_type": "markdown",
      "source": [
        "The pixel values are gray scale between 0 and 255. It is almost always a good idea to perform some scaling of input values when using neural network models. Because the scale is well known and well behaved, we can very quickly **normalize** the pixel values to the range 0 and 1 by dividing each value by the maximum of 255.\n",
        "\n",
        "Also, the output variable is an integer from 0 to 9. This is a multi-class classification problem. As such, it is good practice to use a **one hot encoding** of the class values, transforming the vector of class integers into a binary matrix. We can easily do this using the built-in np_utils.to_categorical() helper function in Keras."
      ],
      "metadata": {
        "_cell_guid": "7f7709ce-9b5f-f45d-c583-1a49f7f733df",
        "id": "Abi8wVdrA3jL"
      }
    },
    {
      "cell_type": "code",
      "source": [
        "# Normalize input from 0-255 to 0-1\n",
        "images = images / 255.0\n",
        "num_pixels =  images.shape[1]\n",
        "\n",
        "# one hot encode outputs\n",
        "labels = np_utils.to_categorical(labels)\n",
        "num_classes = labels.shape[1]"
      ],
      "metadata": {
        "_cell_guid": "1dcb5c59-bd89-9fbc-e3e4-275ba0030cf0",
        "execution": {
          "iopub.status.busy": "2022-02-25T07:59:46.467629Z",
          "iopub.execute_input": "2022-02-25T07:59:46.467909Z",
          "iopub.status.idle": "2022-02-25T07:59:46.584907Z",
          "shell.execute_reply.started": "2022-02-25T07:59:46.467876Z",
          "shell.execute_reply": "2022-02-25T07:59:46.583989Z"
        },
        "trusted": true,
        "id": "5CFVehsaA3jL"
      },
      "execution_count": 41,
      "outputs": []
    },
    {
      "cell_type": "markdown",
      "source": [
        "We are now ready to create our simple neural network model. We will define our model in a function. This is handy if you want to extend the example later and try and get a better score.\n",
        "\n",
        "The model is a **simple neural network** with **one hidden layer** with the same **number of neurons as there are inputs (784)**. A **rectifier activation function** is used for the neurons in the hidden layer.\n",
        "\n",
        "A **softmax activation function** is used on the output layer to turn the outputs into probability-like values and allow one class of the 10 to be selected as the model’s output prediction. **Logarithmic loss** is used as the loss function (called **categorical_crossentropy** in Keras) and the efficient **ADAM gradient descent algorithm** is used to **learn the weights**."
      ],
      "metadata": {
        "_cell_guid": "2570ea91-a644-a6f0-d943-f9e6d6b66783",
        "id": "j5IF_A9UA3jM"
      }
    },
    {
      "cell_type": "markdown",
      "source": [
        "## Model"
      ],
      "metadata": {
        "_cell_guid": "5e27495d-5a10-f00c-2e73-25507f928d6b",
        "id": "8Aub_WzJA3jN"
      }
    },
    {
      "cell_type": "code",
      "source": [
        "# define baseline model\n",
        "def mlp_model():\n",
        "\n",
        "\t# create model\n",
        "\t#TODO\n",
        "  model = Sequential([Dense(784, input_shape=(784,), name=\"layer1\"),\n",
        "\t                    Dense(784, activation=\"relu\", name=\"layer2\"),\n",
        "\t\t\t\t\t\t\t\t\t\t\tDense(10, activation=\"softmax\", name=\"layer3\")])\n",
        "\t\n",
        "\t# Compile model\n",
        "\t#TODO\n",
        "  model.compile(optimizer=\"adam\", loss=\"categorical_crossentropy\", metrics=[\"accuracy\"])\n",
        "  return model"
      ],
      "metadata": {
        "_cell_guid": "31980f83-aaf8-a086-9494-de28ea2a9e54",
        "execution": {
          "iopub.status.busy": "2022-02-25T08:03:54.892807Z",
          "iopub.execute_input": "2022-02-25T08:03:54.893089Z",
          "iopub.status.idle": "2022-02-25T08:03:54.899843Z",
          "shell.execute_reply.started": "2022-02-25T08:03:54.893059Z",
          "shell.execute_reply": "2022-02-25T08:03:54.898780Z"
        },
        "trusted": true,
        "id": "r_U5V5A6A3jN"
      },
      "execution_count": 42,
      "outputs": []
    },
    {
      "cell_type": "markdown",
      "source": [
        "We can now fit and evaluate the model. The model is fit **over 10 epochs with updates every 200 images**. A verbose value of 2 is used to reduce the output to one line for each training epoch."
      ],
      "metadata": {
        "_cell_guid": "7c0ebc00-beb4-e159-3657-3b84579a8a1e",
        "id": "3cvritYhA3jO"
      }
    },
    {
      "cell_type": "code",
      "source": [
        "# build the model\n",
        "model = mlp_model()\n",
        "# Fit the model\n",
        "#TODO\n",
        "print(images.shape, labels.shape)\n",
        "model.fit(images, labels, epochs=10, batch_size=200, verbose=2)"
      ],
      "metadata": {
        "_cell_guid": "6961e1b4-bbac-c951-d3d4-9a36684d6d6a",
        "execution": {
          "iopub.status.busy": "2022-02-25T08:03:57.953932Z",
          "iopub.execute_input": "2022-02-25T08:03:57.954522Z",
          "iopub.status.idle": "2022-02-25T08:03:58.013117Z",
          "shell.execute_reply.started": "2022-02-25T08:03:57.954483Z",
          "shell.execute_reply": "2022-02-25T08:03:58.011808Z"
        },
        "trusted": true,
        "id": "MhaaMiHkA3jO",
        "colab": {
          "base_uri": "https://localhost:8080/"
        },
        "outputId": "50ed0be5-a48a-4738-eb41-b6fe28721a66"
      },
      "execution_count": 43,
      "outputs": [
        {
          "output_type": "stream",
          "name": "stdout",
          "text": [
            "(42000, 784) (42000, 10)\n",
            "Epoch 1/10\n",
            "210/210 - 7s - loss: 0.2501 - accuracy: 0.9239 - 7s/epoch - 32ms/step\n",
            "Epoch 2/10\n",
            "210/210 - 6s - loss: 0.1065 - accuracy: 0.9676 - 6s/epoch - 31ms/step\n",
            "Epoch 3/10\n",
            "210/210 - 7s - loss: 0.0780 - accuracy: 0.9746 - 7s/epoch - 32ms/step\n",
            "Epoch 4/10\n",
            "210/210 - 7s - loss: 0.0580 - accuracy: 0.9816 - 7s/epoch - 32ms/step\n",
            "Epoch 5/10\n",
            "210/210 - 6s - loss: 0.0460 - accuracy: 0.9850 - 6s/epoch - 30ms/step\n",
            "Epoch 6/10\n",
            "210/210 - 6s - loss: 0.0381 - accuracy: 0.9879 - 6s/epoch - 29ms/step\n",
            "Epoch 7/10\n",
            "210/210 - 6s - loss: 0.0319 - accuracy: 0.9889 - 6s/epoch - 30ms/step\n",
            "Epoch 8/10\n",
            "210/210 - 6s - loss: 0.0295 - accuracy: 0.9906 - 6s/epoch - 30ms/step\n",
            "Epoch 9/10\n",
            "210/210 - 6s - loss: 0.0256 - accuracy: 0.9909 - 6s/epoch - 30ms/step\n",
            "Epoch 10/10\n",
            "210/210 - 6s - loss: 0.0219 - accuracy: 0.9933 - 6s/epoch - 30ms/step\n"
          ]
        },
        {
          "output_type": "execute_result",
          "data": {
            "text/plain": [
              "<keras.callbacks.History at 0x7fea2b2f7550>"
            ]
          },
          "metadata": {},
          "execution_count": 43
        }
      ]
    },
    {
      "cell_type": "markdown",
      "source": [
        "Finally, we predict the model, we change our one hot encoded (binary matrix) results to a vector of labels from 0 to 9, and we save our results in a submission file"
      ],
      "metadata": {
        "_cell_guid": "7ea4fac4-5b4e-427c-cd7c-255c87f128f4",
        "id": "EDppEiTFA3jP"
      }
    },
    {
      "cell_type": "markdown",
      "source": [
        "## Evaluation"
      ],
      "metadata": {
        "_cell_guid": "1a9e8575-f459-a7e2-2a0d-0cfe7998ea48",
        "id": "sTVq5KJjA3jP"
      }
    },
    {
      "cell_type": "code",
      "source": [
        "train_pred = model(images)\n",
        "train_pred = np.argmax(train_pred, axis=1)\n",
        "labels = np.argmax(labels, axis=1)\n",
        "\n",
        "from sklearn.metrics import confusion_matrix\n",
        "#print the confusion matrix \n",
        "print(\"CONFUSION MATRIX:\\n\")\n",
        "print(confusion_matrix(labels, train_pred))\n",
        "\n",
        "from sklearn.metrics import classification_report\n",
        "#print classification_report\n",
        "print(\"\\nCLASSIFICATION REPORT:\\n\")\n",
        "print(classification_report(labels, train_pred))"
      ],
      "metadata": {
        "colab": {
          "base_uri": "https://localhost:8080/"
        },
        "id": "UBvf_kI28B-x",
        "outputId": "2f7397cd-b430-4971-b5e5-2bd05cb253e0"
      },
      "execution_count": 44,
      "outputs": [
        {
          "output_type": "stream",
          "name": "stdout",
          "text": [
            "CONFUSION MATRIX:\n",
            "\n",
            "[[4119    0    1    0    0    0    3    0    4    5]\n",
            " [   0 4674    5    0    1    0    1    2    1    0]\n",
            " [   1    1 4146    0   13    1    2    5    7    1]\n",
            " [   2    2   15 4272    1   25    1    2   27    4]\n",
            " [   0    0    0    0 4067    0    2    2    0    1]\n",
            " [   0    0    0    7    1 3758    4    1   20    4]\n",
            " [   2    0    0    0    1    3 4130    0    1    0]\n",
            " [   0    4    8    0    1    0    0 4386    0    2]\n",
            " [   0    2    0    0    3    4    2    3 4033   16]\n",
            " [   0    0    0    0   15    0    0    8    2 4163]]\n",
            "\n",
            "CLASSIFICATION REPORT:\n",
            "\n",
            "              precision    recall  f1-score   support\n",
            "\n",
            "           0       1.00      1.00      1.00      4132\n",
            "           1       1.00      1.00      1.00      4684\n",
            "           2       0.99      0.99      0.99      4177\n",
            "           3       1.00      0.98      0.99      4351\n",
            "           4       0.99      1.00      0.99      4072\n",
            "           5       0.99      0.99      0.99      3795\n",
            "           6       1.00      1.00      1.00      4137\n",
            "           7       0.99      1.00      1.00      4401\n",
            "           8       0.98      0.99      0.99      4063\n",
            "           9       0.99      0.99      0.99      4188\n",
            "\n",
            "    accuracy                           0.99     42000\n",
            "   macro avg       0.99      0.99      0.99     42000\n",
            "weighted avg       0.99      0.99      0.99     42000\n",
            "\n"
          ]
        }
      ]
    },
    {
      "cell_type": "code",
      "source": [
        "# use the NN model to predict and classify test data\n",
        "#TODO\n",
        "test_images = test.values\n",
        "test_images = test_images.astype(np.float)\n",
        "test_images = test_images / 255.0\n",
        "\n",
        "test_pred = model(test_images)\n",
        "test_pred = np.argmax(test_pred, axis=1)\n",
        "print(test_pred)\n",
        "\n",
        "# save results and network weights \n",
        "# submit the submission file on lms along with the notebook file \n",
        "# TODO\n",
        "model.save('model.h5')"
      ],
      "metadata": {
        "_cell_guid": "44e2295b-00dd-6439-b1b2-a393c35ecf97",
        "id": "sJcSB2avA3jQ",
        "colab": {
          "base_uri": "https://localhost:8080/"
        },
        "outputId": "b9f1fc88-6b2a-42a5-a13b-7d2194d6fee9"
      },
      "execution_count": 49,
      "outputs": [
        {
          "output_type": "stream",
          "name": "stderr",
          "text": [
            "/usr/local/lib/python3.7/dist-packages/ipykernel_launcher.py:4: DeprecationWarning: `np.float` is a deprecated alias for the builtin `float`. To silence this warning, use `float` by itself. Doing this will not modify any behavior and is safe. If you specifically wanted the numpy scalar type, use `np.float64` here.\n",
            "Deprecated in NumPy 1.20; for more details and guidance: https://numpy.org/devdocs/release/1.20.0-notes.html#deprecations\n",
            "  after removing the cwd from sys.path.\n"
          ]
        },
        {
          "output_type": "stream",
          "name": "stdout",
          "text": [
            "[2 0 9 ... 3 9 2]\n"
          ]
        }
      ]
    }
  ]
}