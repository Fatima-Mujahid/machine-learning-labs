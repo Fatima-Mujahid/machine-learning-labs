{
  "cells": [
    {
      "cell_type": "markdown",
      "source": [
        "# Machine Learning Lab 4\n",
        "Logistic Regression"
      ],
      "metadata": {
        "id": "ZD8uHFBjvhTm"
      }
    },
    {
      "cell_type": "markdown",
      "source": [
        "**Name:** Fatima Mujahid\n",
        "\n",
        "**Class:** BESE-10B\n",
        "\n",
        "**CMS ID:** 289558\n",
        "\n",
        "**Date:** March 17, 2022"
      ],
      "metadata": {
        "id": "gVwuH7Qevl4Y"
      }
    },
    {
      "cell_type": "markdown",
      "metadata": {
        "id": "mOFD1o0pvEU8"
      },
      "source": [
        "# ML using PyTorch"
      ]
    },
    {
      "cell_type": "markdown",
      "metadata": {
        "id": "3O-usAGRvEVS"
      },
      "source": [
        "PyTorch is an open source machine learning library based on the Torch library, used for applications such as computer vision and natural language processing, primarily developed by Facebook's AI Research lab. It is free and open-source software released under the Modified BSD license"
      ]
    },
    {
      "cell_type": "markdown",
      "metadata": {
        "id": "yYvQwh3vvEVV"
      },
      "source": [
        "## PyTorch Tensors\n",
        "Tensors are a specialized data structure that are very similar to arrays and matrices. In PyTorch, we use tensors to encode the inputs and outputs of a model, as well as the model’s parameters.\n",
        "\n",
        "Tensors are similar to NumPy’s ndarrays, except that tensors can run on GPUs or other hardware accelerators. In fact, tensors and NumPy arrays can often share the same underlying memory, eliminating the need to copy data (see Bridge with NumPy). Tensors are also optimized for automatic differentiation (we’ll see more about that later in the Autograd section). If you’re familiar with ndarrays, you’ll be right at home with the Tensor API. If not, follow along!\n",
        "\n",
        "Go through the following link to learn the basics of Tensors in Pytorch:\n",
        "https://pytorch.org/tutorials/beginner/basics/tensor_tutorial.html"
      ]
    },
    {
      "cell_type": "markdown",
      "metadata": {
        "id": "hgGX-4xSvEVY"
      },
      "source": [
        "## Linear Regression Using Pytorch"
      ]
    },
    {
      "cell_type": "code",
      "execution_count": 28,
      "metadata": {
        "id": "Xvnvdj9nvEVa"
      },
      "outputs": [],
      "source": [
        "from numpy import loadtxt\n",
        "import numpy as np\n",
        "import torch\n",
        "from torch import nn\n",
        "from torchvision import transforms\n",
        "import torch.optim as optim\n",
        "\n",
        "\n",
        "# Load the datasets\n",
        "np_data = loadtxt('ex1data1.txt', delimiter=',')\n",
        "\n",
        "# convert np array to pytorch tensor\n",
        "X = torch.from_numpy((np_data[:,np.newaxis,0]).astype('float32'))\n",
        "Y = torch.from_numpy(np_data[:,np.newaxis,1].astype('float32'))\n",
        "\n",
        "# Linear regression hypothesis using Pytorch\n",
        "hypothesis = nn.Linear(X.shape[1], 1, bias=True) # h = w x + b\n",
        "\n",
        "optimizer = optim.SGD(hypothesis.parameters(), lr = .01) # stochastic gradient descent with learning rate lr\n",
        "Cost = nn.MSELoss() # mean squared error\n",
        "\n",
        "J_history = []\n",
        "for iterations in range(200):\n",
        "    optimizer.zero_grad()\n",
        "    # forward pass\n",
        "    out = hypothesis(X)\n",
        "    \n",
        "    loss = Cost(out, Y)\n",
        "    \n",
        "    # backward pass\n",
        "    loss.backward()\n",
        "    \n",
        "    # update paramters\n",
        "    optimizer.step()\n",
        "    \n",
        "    J_history += [loss.item()]\n",
        "\n"
      ]
    },
    {
      "cell_type": "code",
      "execution_count": 29,
      "metadata": {
        "scrolled": true,
        "colab": {
          "base_uri": "https://localhost:8080/",
          "height": 561
        },
        "id": "HDdUtadqvEVf",
        "outputId": "3160a1ff-f768-47a4-c33f-ed0572774ce3"
      },
      "outputs": [
        {
          "output_type": "display_data",
          "data": {
            "text/plain": [
              "<Figure size 432x288 with 1 Axes>"
            ],
            "image/png": "[encoded data removed]"
          },
          "metadata": {
            "needs_background": "light"
          }
        },
        {
          "output_type": "execute_result",
          "data": {
            "text/plain": [
              "[<matplotlib.lines.Line2D at 0x7fc1621c7ed0>]"
            ]
          },
          "metadata": {},
          "execution_count": 29
        },
        {
          "output_type": "display_data",
          "data": {
            "text/plain": [
              "<Figure size 432x288 with 1 Axes>"
            ],
            "image/png": "[encoded data removed]"
          },
          "metadata": {
            "needs_background": "light"
          }
        }
      ],
      "source": [
        "# plot the results\n",
        "from matplotlib import pyplot as plt\n",
        "plt.plot(J_history)\n",
        "plt.title('Convergence plot of gradient descent')\n",
        "plt.xlabel('No of iterations')\n",
        "plt.ylabel('J')\n",
        "plt.show()\n",
        "plt.plot(X,Y,'.')\n",
        "plt.plot(X[:, 0], out.detach().numpy(), c = 'r')"
      ]
    },
    {
      "cell_type": "markdown",
      "metadata": {
        "id": "SLlzwj7LvEVi"
      },
      "source": [
        "## Multiclass Logistic Regression using Pytorch (softmax classification)\n",
        "\n",
        "Reading assignment: Go through the following\n",
        "\n",
        "https://pytorch.org/docs/stable/generated/torch.nn.Linear.html\n",
        "https://pytorch.org/docs/stable/generated/torch.nn.LogSoftmax.html\n",
        "https://pytorch.org/docs/stable/generated/torch.nn.NLLLoss.html\n",
        "\n",
        "Mini batch gradient descent:\n",
        "\n",
        "https://towardsdatascience.com/batch-mini-batch-stochastic-gradient-descent-7a62ecba642a"
      ]
    },
    {
      "cell_type": "code",
      "execution_count": 30,
      "metadata": {
        "id": "ICCSvuT3vEVk"
      },
      "outputs": [],
      "source": [
        "from sklearn import datasets\n",
        "from sklearn.preprocessing import OneHotEncoder\n",
        "\n",
        "# Load the classification dataset (https://scikit-learn.org/stable/auto_examples/datasets/plot_iris_dataset.html)\n",
        "np_data = datasets.load_iris()\n",
        "\n",
        "# convert np array to pytorch tensor\n",
        "X = torch.from_numpy((np_data.data).astype('float32'))\n",
        "Y = torch.from_numpy((np_data.target.astype('int64')))\n",
        "\n",
        "\n",
        "# Logistic regression hypothesis using Pytorch\n",
        "hypothesis = nn.Sequential(\n",
        "    nn.Linear(X.shape[1], 3, bias=True), \n",
        "    nn.LogSoftmax(dim=1)) \n",
        "    \n",
        "optimizer = optim.SGD(hypothesis.parameters(), lr = .01) # stochastic gradient descent with learning rate lr\n",
        "Cost = nn.NLLLoss() # Negative log likelihood loss\n",
        "\n",
        "J_history = []\n",
        "for iterations in range(200):\n",
        "    optimizer.zero_grad()\n",
        "    # forward pass\n",
        "    out = hypothesis(X)\n",
        "    \n",
        "    loss = Cost(out, Y)\n",
        "    \n",
        "    # backward pass\n",
        "    loss.backward()\n",
        "    \n",
        "    # update paramters\n",
        "    optimizer.step()\n",
        "    \n",
        "    J_history += [loss.item()]\n",
        "    "
      ]
    },
    {
      "cell_type": "code",
      "execution_count": 31,
      "metadata": {
        "colab": {
          "base_uri": "https://localhost:8080/",
          "height": 295
        },
        "id": "rSger070vEVm",
        "outputId": "9eee5bd7-13c2-493e-cee0-0d5118b87db2"
      },
      "outputs": [
        {
          "output_type": "display_data",
          "data": {
            "text/plain": [
              "<Figure size 432x288 with 1 Axes>"
            ],
            "image/png": "[encoded data removed]"
          },
          "metadata": {
            "needs_background": "light"
          }
        }
      ],
      "source": [
        "# plot the results\n",
        "from matplotlib import pyplot as plt\n",
        "plt.plot(J_history)\n",
        "plt.title('Convergence plot of gradient descent')\n",
        "plt.xlabel('No of iterations')\n",
        "plt.ylabel('J')\n",
        "plt.show()"
      ]
    },
    {
      "cell_type": "markdown",
      "metadata": {
        "id": "pTRzSVv4vEVo"
      },
      "source": [
        "# Lab Task\n",
        "## Logistic Regression on MNIST Handwritten Digit \n",
        "Apply logistic regression to mnist handwritten digits. Use the code in the previous cell as the starter code. There are 10 classes so the number of out_feature in nn.Linear will be 10. Set the in_features according to the dimension of vectorised image. Plot the convergence plot of gradiet descent.\n",
        "\n",
        "Note: Do not use convolution or Deep neural network. Use vectorised image as input. Use multiclass logistic regression model as studied in the class and implemented in the previous cell. "
      ]
    },
    {
      "cell_type": "markdown",
      "metadata": {
        "id": "vlBqAhfbvEVq"
      },
      "source": [
        "### 1. Load the MNIST data\n",
        "Follow the guidelines here to download and use MNIST data\n",
        "https://pytorch.org/tutorials/beginner/basics/data_tutorial.html"
      ]
    },
    {
      "cell_type": "code",
      "execution_count": 32,
      "metadata": {
        "id": "ispbXD9yvEVr"
      },
      "outputs": [],
      "source": [
        "# use the following imports to download MNIST using Pytorch \n",
        "from torch.utils.data import Dataset\n",
        "from torch.utils.data import DataLoader\n",
        "from torchvision import transforms\n",
        "from torchvision import datasets\n",
        "\n",
        "#todo: \n",
        "training_data = datasets.MNIST(\n",
        "    root=\"data\",\n",
        "    train=True,\n",
        "    download=True,\n",
        "    transform=transforms.ToTensor()\n",
        ")\n",
        "\n",
        "test_data = datasets.MNIST(\n",
        "    root=\"data\",\n",
        "    train=False,\n",
        "    download=True,\n",
        "    transform=transforms.ToTensor()\n",
        ")\n",
        "\n",
        "batch_size = 32\n",
        "\n",
        "train_loader = torch.utils.data.DataLoader(\n",
        "    dataset=training_data, \n",
        "    batch_size=batch_size, \n",
        "    shuffle=True\n",
        ")\n",
        "\n",
        "test_loader = torch.utils.data.DataLoader(\n",
        "    dataset=test_data, \n",
        "    batch_size=batch_size, \n",
        "    shuffle = True\n",
        ")\n"
      ]
    },
    {
      "cell_type": "markdown",
      "metadata": {
        "id": "gQK8ft9EvEVs"
      },
      "source": [
        "### 2.  Create a multiclass logistic regression (softmax) model and train"
      ]
    },
    {
      "cell_type": "code",
      "execution_count": 33,
      "metadata": {
        "id": "k-HAPujTvEVt",
        "colab": {
          "base_uri": "https://localhost:8080/"
        },
        "outputId": "4e1df5f9-c3ff-4404-8f6d-7198db72c05a"
      },
      "outputs": [
        {
          "output_type": "stream",
          "name": "stdout",
          "text": [
            "Iteration: 500 Loss: 0.8374409675598145\n",
            "Iteration: 1000 Loss: 0.5166006684303284\n",
            "Iteration: 1500 Loss: 0.3163786828517914\n",
            "Iteration: 2000 Loss: 0.4603278636932373\n",
            "Iteration: 2500 Loss: 0.3347112238407135\n",
            "Iteration: 3000 Loss: 0.495540589094162\n",
            "Iteration: 3500 Loss: 0.23230911791324615\n",
            "Iteration: 4000 Loss: 0.6872785091400146\n",
            "Iteration: 4500 Loss: 0.4466838240623474\n",
            "Iteration: 5000 Loss: 0.4709649682044983\n",
            "Iteration: 5500 Loss: 0.6521487832069397\n",
            "Iteration: 6000 Loss: 0.1574934422969818\n",
            "Iteration: 6500 Loss: 0.38926979899406433\n",
            "Iteration: 7000 Loss: 0.21035437285900116\n",
            "Iteration: 7500 Loss: 0.19804690778255463\n",
            "Iteration: 8000 Loss: 0.5305366516113281\n",
            "Iteration: 8500 Loss: 0.291789710521698\n",
            "Iteration: 9000 Loss: 0.34136465191841125\n",
            "Iteration: 9500 Loss: 0.1145160123705864\n",
            "Iteration: 10000 Loss: 0.7653738260269165\n",
            "Iteration: 10500 Loss: 0.3328002989292145\n",
            "Iteration: 11000 Loss: 0.1646125763654709\n",
            "Iteration: 11500 Loss: 0.46528884768486023\n",
            "Iteration: 12000 Loss: 0.3075854182243347\n",
            "Iteration: 12500 Loss: 0.40144699811935425\n",
            "Iteration: 13000 Loss: 0.3584314286708832\n",
            "Iteration: 13500 Loss: 0.2531776428222656\n",
            "Iteration: 14000 Loss: 0.2463599145412445\n",
            "Iteration: 14500 Loss: 0.2886587977409363\n",
            "Iteration: 15000 Loss: 0.2935594618320465\n",
            "Iteration: 15500 Loss: 0.23536399006843567\n",
            "Iteration: 16000 Loss: 0.16570062935352325\n",
            "Iteration: 16500 Loss: 0.20274436473846436\n",
            "Iteration: 17000 Loss: 0.26257702708244324\n",
            "Iteration: 17500 Loss: 0.25576481223106384\n",
            "Iteration: 18000 Loss: 0.1685725748538971\n",
            "Iteration: 18500 Loss: 0.2465749979019165\n"
          ]
        }
      ],
      "source": [
        "# Create softmax model. in_features = 28x28 and out_features = 10\n",
        "# todo:\n",
        "\n",
        "# Logistic regression hypothesis using Pytorch\n",
        "hypothesis = nn.Sequential(\n",
        "    nn.Linear(28*28, 10, bias=True), \n",
        "    nn.LogSoftmax(dim=1)) \n",
        "    \n",
        "optimizer = optim.SGD(hypothesis.parameters(), lr = .01) # stochastic gradient descent with learning rate lr\n",
        "Cost = nn.NLLLoss() # Negative log likelihood loss\n",
        "\n",
        "J_history = []\n",
        "iter = 0\n",
        "\n",
        "for epoch in range(10):\n",
        "  for i, (images, labels) in enumerate(train_loader):\n",
        "    X_train = images.view(-1, 28*28)\n",
        "    y_train = labels\n",
        "\n",
        "    optimizer.zero_grad()\n",
        "    # forward pass\n",
        "    out = hypothesis(X_train)\n",
        "  \n",
        "    loss = Cost(out, y_train)\n",
        "    \n",
        "    # backward pass\n",
        "    loss.backward()\n",
        "    \n",
        "    # update paramters\n",
        "    optimizer.step()\n",
        "    \n",
        "    J_history += [loss.item()]\n",
        "    iter += 1\n",
        "\n",
        "    if iter % 500 == 0: \n",
        "      print('Iteration: {} Loss: {}'.format(iter, loss.item()))\n"
      ]
    },
    {
      "cell_type": "markdown",
      "metadata": {
        "id": "QLqI73rOvEVu"
      },
      "source": [
        "### 3. Plot Convergence plot of gradient descent with respect to no of epochs"
      ]
    },
    {
      "cell_type": "code",
      "execution_count": 34,
      "metadata": {
        "colab": {
          "base_uri": "https://localhost:8080/",
          "height": 295
        },
        "id": "T3dwG_AWvEVv",
        "outputId": "fbd4387c-0287-44e2-868a-b219b8021636"
      },
      "outputs": [
        {
          "output_type": "display_data",
          "data": {
            "text/plain": [
              "<Figure size 432x288 with 1 Axes>"
            ],
            "image/png": "[encoded data removed]"
          },
          "metadata": {
            "needs_background": "light"
          }
        }
      ],
      "source": [
        "# each of 10 epochs consists of 1875 iterations (train_data/batch_size = 60000/32)\n",
        "\n",
        "from matplotlib import pyplot as plt\n",
        "plt.plot(J_history)\n",
        "plt.title('Convergence plot of gradient descent')\n",
        "plt.xlabel('No of iterations')\n",
        "plt.ylabel('J')\n",
        "plt.show()"
      ]
    },
    {
      "cell_type": "markdown",
      "metadata": {
        "id": "MQOXQDPXvEVv"
      },
      "source": [
        "### 4. Test on a batch of test images and display images with the predicted label"
      ]
    },
    {
      "cell_type": "code",
      "execution_count": 35,
      "metadata": {
        "id": "xSU2ordlvEVw",
        "colab": {
          "base_uri": "https://localhost:8080/",
          "height": 1000
        },
        "outputId": "9a40eb9d-320f-43f2-bac3-a924031330c9"
      },
      "outputs": [
        {
          "output_type": "stream",
          "name": "stdout",
          "text": [
            "TEST: 1\n"
          ]
        },
        {
          "output_type": "display_data",
          "data": {
            "text/plain": [
              "<Figure size 432x288 with 1 Axes>"
            ],
            "image/png": "[encoded data removed]"
          },
          "metadata": {
            "needs_background": "light"
          }
        },
        {
          "output_type": "stream",
          "name": "stdout",
          "text": [
            "PREDICTION: 8\n",
            "LABEL FOR IMAGE: 8\n",
            "\n",
            "TEST: 2\n"
          ]
        },
        {
          "output_type": "display_data",
          "data": {
            "text/plain": [
              "<Figure size 432x288 with 1 Axes>"
            ],
            "image/png": "[encoded data removed]"
          },
          "metadata": {
            "needs_background": "light"
          }
        },
        {
          "output_type": "stream",
          "name": "stdout",
          "text": [
            "PREDICTION: 3\n",
            "LABEL FOR IMAGE: 8\n",
            "\n",
            "TEST: 3\n"
          ]
        },
        {
          "output_type": "display_data",
          "data": {
            "text/plain": [
              "<Figure size 432x288 with 1 Axes>"
            ],
            "image/png": "[encoded data removed]"
          },
          "metadata": {
            "needs_background": "light"
          }
        },
        {
          "output_type": "stream",
          "name": "stdout",
          "text": [
            "PREDICTION: 1\n",
            "LABEL FOR IMAGE: 1\n",
            "\n",
            "TEST: 4\n"
          ]
        },
        {
          "output_type": "display_data",
          "data": {
            "text/plain": [
              "<Figure size 432x288 with 1 Axes>"
            ],
            "image/png": "[encoded data removed]"
          },
          "metadata": {
            "needs_background": "light"
          }
        },
        {
          "output_type": "stream",
          "name": "stdout",
          "text": [
            "PREDICTION: 4\n",
            "LABEL FOR IMAGE: 8\n",
            "\n",
            "TEST: 5\n"
          ]
        },
        {
          "output_type": "display_data",
          "data": {
            "text/plain": [
              "<Figure size 432x288 with 1 Axes>"
            ],
            "image/png": "[encoded data removed]"
          },
          "metadata": {
            "needs_background": "light"
          }
        },
        {
          "output_type": "stream",
          "name": "stdout",
          "text": [
            "PREDICTION: 5\n",
            "LABEL FOR IMAGE: 5\n",
            "\n",
            "TEST: 6\n"
          ]
        },
        {
          "output_type": "display_data",
          "data": {
            "text/plain": [
              "<Figure size 432x288 with 1 Axes>"
            ],
            "image/png": "[encoded data removed]"
          },
          "metadata": {
            "needs_background": "light"
          }
        },
        {
          "output_type": "stream",
          "name": "stdout",
          "text": [
            "PREDICTION: 5\n",
            "LABEL FOR IMAGE: 5\n",
            "\n",
            "TEST: 7\n"
          ]
        },
        {
          "output_type": "display_data",
          "data": {
            "text/plain": [
              "<Figure size 432x288 with 1 Axes>"
            ],
            "image/png": "[encoded data removed]"
          },
          "metadata": {
            "needs_background": "light"
          }
        },
        {
          "output_type": "stream",
          "name": "stdout",
          "text": [
            "PREDICTION: 1\n",
            "LABEL FOR IMAGE: 1\n",
            "\n",
            "TEST: 8\n"
          ]
        },
        {
          "output_type": "display_data",
          "data": {
            "text/plain": [
              "<Figure size 432x288 with 1 Axes>"
            ],
            "image/png": "[encoded data removed]"
          },
          "metadata": {
            "needs_background": "light"
          }
        },
        {
          "output_type": "stream",
          "name": "stdout",
          "text": [
            "PREDICTION: 4\n",
            "LABEL FOR IMAGE: 4\n",
            "\n",
            "TEST: 9\n"
          ]
        },
        {
          "output_type": "display_data",
          "data": {
            "text/plain": [
              "<Figure size 432x288 with 1 Axes>"
            ],
            "image/png": "[encoded data removed]"
          },
          "metadata": {
            "needs_background": "light"
          }
        },
        {
          "output_type": "stream",
          "name": "stdout",
          "text": [
            "PREDICTION: 8\n",
            "LABEL FOR IMAGE: 8\n",
            "\n",
            "TEST: 10\n"
          ]
        },
        {
          "output_type": "display_data",
          "data": {
            "text/plain": [
              "<Figure size 432x288 with 1 Axes>"
            ],
            "image/png": "[encoded data removed]"
          },
          "metadata": {
            "needs_background": "light"
          }
        },
        {
          "output_type": "stream",
          "name": "stdout",
          "text": [
            "PREDICTION: 5\n",
            "LABEL FOR IMAGE: 5\n",
            "\n",
            "TEST: 11\n"
          ]
        },
        {
          "output_type": "display_data",
          "data": {
            "text/plain": [
              "<Figure size 432x288 with 1 Axes>"
            ],
            "image/png": "[encoded data removed]"
          },
          "metadata": {
            "needs_background": "light"
          }
        },
        {
          "output_type": "stream",
          "name": "stdout",
          "text": [
            "PREDICTION: 0\n",
            "LABEL FOR IMAGE: 0\n",
            "\n",
            "TEST: 12\n"
          ]
        },
        {
          "output_type": "display_data",
          "data": {
            "text/plain": [
              "<Figure size 432x288 with 1 Axes>"
            ],
            "image/png": "[encoded data removed]"
          },
          "metadata": {
            "needs_background": "light"
          }
        },
        {
          "output_type": "stream",
          "name": "stdout",
          "text": [
            "PREDICTION: 1\n",
            "LABEL FOR IMAGE: 1\n",
            "\n",
            "TEST: 13\n"
          ]
        },
        {
          "output_type": "display_data",
          "data": {
            "text/plain": [
              "<Figure size 432x288 with 1 Axes>"
            ],
            "image/png": "[encoded data removed]"
          },
          "metadata": {
            "needs_background": "light"
          }
        },
        {
          "output_type": "stream",
          "name": "stdout",
          "text": [
            "PREDICTION: 9\n",
            "LABEL FOR IMAGE: 9\n",
            "\n",
            "TEST: 14\n"
          ]
        },
        {
          "output_type": "display_data",
          "data": {
            "text/plain": [
              "<Figure size 432x288 with 1 Axes>"
            ],
            "image/png": "[encoded data removed]"
          },
          "metadata": {
            "needs_background": "light"
          }
        },
        {
          "output_type": "stream",
          "name": "stdout",
          "text": [
            "PREDICTION: 9\n",
            "LABEL FOR IMAGE: 9\n",
            "\n",
            "TEST: 15\n"
          ]
        },
        {
          "output_type": "display_data",
          "data": {
            "text/plain": [
              "<Figure size 432x288 with 1 Axes>"
            ],
            "image/png": "[encoded data removed]"
          },
          "metadata": {
            "needs_background": "light"
          }
        },
        {
          "output_type": "stream",
          "name": "stdout",
          "text": [
            "PREDICTION: 9\n",
            "LABEL FOR IMAGE: 9\n",
            "\n",
            "TEST: 16\n"
          ]
        },
        {
          "output_type": "display_data",
          "data": {
            "text/plain": [
              "<Figure size 432x288 with 1 Axes>"
            ],
            "image/png": "[encoded data removed]"
          },
          "metadata": {
            "needs_background": "light"
          }
        },
        {
          "output_type": "stream",
          "name": "stdout",
          "text": [
            "PREDICTION: 8\n",
            "LABEL FOR IMAGE: 8\n",
            "\n",
            "TEST: 17\n"
          ]
        },
        {
          "output_type": "display_data",
          "data": {
            "text/plain": [
              "<Figure size 432x288 with 1 Axes>"
            ],
            "image/png": "[encoded data removed]"
          },
          "metadata": {
            "needs_background": "light"
          }
        },
        {
          "output_type": "stream",
          "name": "stdout",
          "text": [
            "PREDICTION: 3\n",
            "LABEL FOR IMAGE: 3\n",
            "\n",
            "TEST: 18\n"
          ]
        },
        {
          "output_type": "display_data",
          "data": {
            "text/plain": [
              "<Figure size 432x288 with 1 Axes>"
            ],
            "image/png": "[encoded data removed]"
          },
          "metadata": {
            "needs_background": "light"
          }
        },
        {
          "output_type": "stream",
          "name": "stdout",
          "text": [
            "PREDICTION: 9\n",
            "LABEL FOR IMAGE: 9\n",
            "\n",
            "TEST: 19\n"
          ]
        },
        {
          "output_type": "display_data",
          "data": {
            "text/plain": [
              "<Figure size 432x288 with 1 Axes>"
            ],
            "image/png": "[encoded data removed]"
          },
          "metadata": {
            "needs_background": "light"
          }
        },
        {
          "output_type": "stream",
          "name": "stdout",
          "text": [
            "PREDICTION: 6\n",
            "LABEL FOR IMAGE: 6\n",
            "\n",
            "TEST: 20\n"
          ]
        },
        {
          "output_type": "display_data",
          "data": {
            "text/plain": [
              "<Figure size 432x288 with 1 Axes>"
            ],
            "image/png": "[encoded data removed]"
          },
          "metadata": {
            "needs_background": "light"
          }
        },
        {
          "output_type": "stream",
          "name": "stdout",
          "text": [
            "PREDICTION: 6\n",
            "LABEL FOR IMAGE: 6\n",
            "\n",
            "TEST: 21\n"
          ]
        },
        {
          "output_type": "display_data",
          "data": {
            "text/plain": [
              "<Figure size 432x288 with 1 Axes>"
            ],
            "image/png": "[encoded data removed]"
          },
          "metadata": {
            "needs_background": "light"
          }
        },
        {
          "output_type": "stream",
          "name": "stdout",
          "text": [
            "PREDICTION: 2\n",
            "LABEL FOR IMAGE: 2\n",
            "\n",
            "TEST: 22\n"
          ]
        },
        {
          "output_type": "display_data",
          "data": {
            "text/plain": [
              "<Figure size 432x288 with 1 Axes>"
            ],
            "image/png": "[encoded data removed]"
          },
          "metadata": {
            "needs_background": "light"
          }
        },
        {
          "output_type": "stream",
          "name": "stdout",
          "text": [
            "PREDICTION: 0\n",
            "LABEL FOR IMAGE: 0\n",
            "\n",
            "TEST: 23\n"
          ]
        },
        {
          "output_type": "display_data",
          "data": {
            "text/plain": [
              "<Figure size 432x288 with 1 Axes>"
            ],
            "image/png": "[encoded data removed]"
          },
          "metadata": {
            "needs_background": "light"
          }
        },
        {
          "output_type": "stream",
          "name": "stdout",
          "text": [
            "PREDICTION: 4\n",
            "LABEL FOR IMAGE: 4\n",
            "\n",
            "TEST: 24\n"
          ]
        },
        {
          "output_type": "display_data",
          "data": {
            "text/plain": [
              "<Figure size 432x288 with 1 Axes>"
            ],
            "image/png": "[encoded data removed]"
          },
          "metadata": {
            "needs_background": "light"
          }
        },
        {
          "output_type": "stream",
          "name": "stdout",
          "text": [
            "PREDICTION: 3\n",
            "LABEL FOR IMAGE: 8\n",
            "\n",
            "TEST: 25\n"
          ]
        },
        {
          "output_type": "display_data",
          "data": {
            "text/plain": [
              "<Figure size 432x288 with 1 Axes>"
            ],
            "image/png": "[encoded data removed]"
          },
          "metadata": {
            "needs_background": "light"
          }
        },
        {
          "output_type": "stream",
          "name": "stdout",
          "text": [
            "PREDICTION: 1\n",
            "LABEL FOR IMAGE: 1\n",
            "\n",
            "TEST: 26\n"
          ]
        },
        {
          "output_type": "display_data",
          "data": {
            "text/plain": [
              "<Figure size 432x288 with 1 Axes>"
            ],
            "image/png": "[encoded data removed]"
          },
          "metadata": {
            "needs_background": "light"
          }
        },
        {
          "output_type": "stream",
          "name": "stdout",
          "text": [
            "PREDICTION: 3\n",
            "LABEL FOR IMAGE: 3\n",
            "\n",
            "TEST: 27\n"
          ]
        },
        {
          "output_type": "display_data",
          "data": {
            "text/plain": [
              "<Figure size 432x288 with 1 Axes>"
            ],
            "image/png": "[encoded data removed]"
          },
          "metadata": {
            "needs_background": "light"
          }
        },
        {
          "output_type": "stream",
          "name": "stdout",
          "text": [
            "PREDICTION: 3\n",
            "LABEL FOR IMAGE: 3\n",
            "\n",
            "TEST: 28\n"
          ]
        },
        {
          "output_type": "display_data",
          "data": {
            "text/plain": [
              "<Figure size 432x288 with 1 Axes>"
            ],
            "image/png": "[encoded data removed]"
          },
          "metadata": {
            "needs_background": "light"
          }
        },
        {
          "output_type": "stream",
          "name": "stdout",
          "text": [
            "PREDICTION: 5\n",
            "LABEL FOR IMAGE: 5\n",
            "\n",
            "TEST: 29\n"
          ]
        },
        {
          "output_type": "display_data",
          "data": {
            "text/plain": [
              "<Figure size 432x288 with 1 Axes>"
            ],
            "image/png": "[encoded data removed]"
          },
          "metadata": {
            "needs_background": "light"
          }
        },
        {
          "output_type": "stream",
          "name": "stdout",
          "text": [
            "PREDICTION: 6\n",
            "LABEL FOR IMAGE: 6\n",
            "\n",
            "TEST: 30\n"
          ]
        },
        {
          "output_type": "display_data",
          "data": {
            "text/plain": [
              "<Figure size 432x288 with 1 Axes>"
            ],
            "image/png": "[encoded data removed]"
          },
          "metadata": {
            "needs_background": "light"
          }
        },
        {
          "output_type": "stream",
          "name": "stdout",
          "text": [
            "PREDICTION: 5\n",
            "LABEL FOR IMAGE: 5\n",
            "\n",
            "TEST: 31\n"
          ]
        },
        {
          "output_type": "display_data",
          "data": {
            "text/plain": [
              "<Figure size 432x288 with 1 Axes>"
            ],
            "image/png": "[encoded data removed]"
          },
          "metadata": {
            "needs_background": "light"
          }
        },
        {
          "output_type": "stream",
          "name": "stdout",
          "text": [
            "PREDICTION: 5\n",
            "LABEL FOR IMAGE: 5\n",
            "\n",
            "TEST: 32\n"
          ]
        },
        {
          "output_type": "display_data",
          "data": {
            "text/plain": [
              "<Figure size 432x288 with 1 Axes>"
            ],
            "image/png": "[encoded data removed]"
          },
          "metadata": {
            "needs_background": "light"
          }
        },
        {
          "output_type": "stream",
          "name": "stdout",
          "text": [
            "PREDICTION: 1\n",
            "LABEL FOR IMAGE: 1\n",
            "\n",
            "ACCURACY FOR BATCH 1: 90.625\n"
          ]
        }
      ],
      "source": [
        "import matplotlib.pyplot as plt\n",
        "\n",
        "k=0\n",
        "correct = 0\n",
        "total = 0\n",
        "\n",
        "for i, (images, labels) in enumerate(test_loader):\n",
        "  X_test = images.view(-1, 28*28)\n",
        "  y_test = labels\n",
        "\n",
        "  with torch.no_grad():\n",
        "    out = hypothesis(X_test)\n",
        "    values, pred = torch.max(out.data, 1)\n",
        "    correct += (pred == y_test).sum()\n",
        "    total += y_test.size(0) \n",
        "  \n",
        "  if i == 0:\n",
        "    for j in range(len(pred)):\n",
        "      k += 1\n",
        "\n",
        "      print('TEST:', k)\n",
        "      plt.imshow(images[j].reshape((28, 28)), cmap=\"gray\")\n",
        "      plt.pause(0.00001)  \n",
        "\n",
        "      print('PREDICTION:', pred[j].item())\n",
        "      print('LABEL FOR IMAGE:', y_test[j].item())\n",
        "      print()\n",
        "    print('ACCURACY FOR BATCH 1:', 100 * ((pred == y_test).sum()/y_test.size(0)).item())\n"
      ]
    },
    {
      "cell_type": "code",
      "source": [
        "accuracy = 100 * correct.item() / total\n",
        "print('ACCURACY:', accuracy)\n"
      ],
      "metadata": {
        "colab": {
          "base_uri": "https://localhost:8080/"
        },
        "id": "fbPrPR0L4tdu",
        "outputId": "33787f11-5fc6-417c-dfe7-e920189b6054"
      },
      "execution_count": 36,
      "outputs": [
        {
          "output_type": "stream",
          "name": "stdout",
          "text": [
            "ACCURACY: 91.71\n"
          ]
        }
      ]
    }
  ],
  "metadata": {
    "kernelspec": {
      "display_name": "Python 3",
      "language": "python",
      "name": "python3"
    },
    "language_info": {
      "codemirror_mode": {
        "name": "ipython",
        "version": 3
      },
      "file_extension": ".py",
      "mimetype": "text/x-python",
      "name": "python",
      "nbconvert_exporter": "python",
      "pygments_lexer": "ipython3",
      "version": "3.5.0"
    },
    "colab": {
      "name": "Lab4_289558_FatimaMujahid.ipynb",
      "provenance": [],
      "collapsed_sections": []
    }
  },
  "nbformat": 4,
  "nbformat_minor": 0
}