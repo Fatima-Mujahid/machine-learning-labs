{
  "metadata": {
    "kernelspec": {
      "display_name": "Python 3",
      "name": "python3",
      "language": "python"
    },
    "language_info": {
      "name": "python",
      "version": "3.6.3",
      "pygments_lexer": "ipython3",
      "nbconvert_exporter": "python",
      "mimetype": "text/x-python",
      "file_extension": ".py",
      "codemirror_mode": {
        "name": "ipython",
        "version": 3
      }
    },
    "colab": {
      "name": "Lab6_289558_FatimaMujahid.ipynb",
      "provenance": [],
      "collapsed_sections": []
    }
  },
  "nbformat_minor": 0,
  "nbformat": 4,
  "cells": [
    {
      "cell_type": "markdown",
      "source": [
        "# Machine Learning Lab 6\n",
        "KNN Classifier"
      ],
      "metadata": {
        "id": "NxiqHbaTc1HG"
      }
    },
    {
      "cell_type": "markdown",
      "source": [
        "**Name:** Fatima Mujahid\n",
        "\n",
        "**Class:** BESE-10B\n",
        "\n",
        "**CMS ID:** 289558\n",
        "\n",
        "**Date:** April 1, 2022"
      ],
      "metadata": {
        "id": "vNEPno6zc56X"
      }
    },
    {
      "cell_type": "code",
      "source": [
        "# import the necessary packages\n",
        "from __future__ import print_function\n",
        "from sklearn.model_selection import train_test_split\n",
        "#from sklearn.cross_validation import train_test_split\n",
        "from sklearn.neighbors import KNeighborsClassifier\n",
        "from sklearn.metrics import accuracy_score\n",
        "from sklearn.metrics import confusion_matrix\n",
        "from sklearn.metrics import classification_report\n",
        "from sklearn import datasets\n",
        "from skimage import exposure\n",
        "import numpy as np\n",
        "#import imutils\n",
        "import cv2\n",
        "import matplotlib.pyplot as plt\n",
        "\n",
        "# load the MNIST digits dataset\n",
        "\n",
        "mnist = datasets.load_digits()\n",
        "\n",
        "# take the MNIST data and construct the training and testing split, using 75% of the\n",
        "# data for training and 25% for testing\n",
        "\n",
        "(trainData, testData, trainLabels, testLabels) = train_test_split(np.array(mnist.data),\n",
        "mnist.target, test_size=0.25, random_state=42)\n",
        "\n",
        "# now, let's take 10% of the training data and use that for validation\n",
        "\n",
        "(trainData, valData, trainLabels, valLabels) = train_test_split(trainData, trainLabels,\n",
        "test_size=0.1, random_state=84)\n",
        "\n",
        "# show the sizes of each data split\n",
        "\n",
        "print(\"training data points: {}\".format(len(trainLabels)))\n",
        "print(\"validation data points: {}\".format(len(valLabels)))\n",
        "print(\"testing data points: {}\".format(len(testLabels)))\n",
        "\n",
        "# initialize the values of k for our k-Nearest Neighbor classifier along with the\n",
        "# list of accuracies for each value of k\n",
        "\n",
        "kVals = range(1, 30, 2)\n",
        "accuracies = []\n",
        "\n",
        "# loop over various values of `k` for the k-Nearest Neighbor classifier\n",
        "\n",
        "for k in range(1, 30, 2):\n",
        "\n",
        "  # train the k-Nearest Neighbor classifier with the current value of `k`\n",
        "  #TODO\n",
        "\n",
        "  classifier = KNeighborsClassifier(n_neighbors = k) \n",
        "  classifier.fit(trainData, trainLabels)\n",
        "\n",
        "  # evaluate the model and update the accuracies list\n",
        "  #TODO\n",
        "\n",
        "  valPredictions = classifier.predict(valData)\n",
        "  accuracy = accuracy_score(valLabels, valPredictions)\n",
        "  accuracies.append(accuracy)\n",
        "          \n",
        "# find the value of k that has the largest accuracy\n",
        "#TODO\n",
        "\n",
        "maxAccuracy = np.max(accuracies)\n",
        "kVal = kVals[accuracies.index(maxAccuracy)]\n",
        "\n",
        "print(\"\\nMAXIMUM ACCURAY VALUE: {0:0.4f}%\".format(maxAccuracy * 100))\n",
        "print(\"\\nBEST K VALUE:\", kVal)\n",
        "\n",
        "# re-train our classifier using the best k value and predict the labels of the\n",
        "# test data\n",
        "#TODO\n",
        "\n",
        "classifier = KNeighborsClassifier(n_neighbors = kVal) \n",
        "classifier.fit(trainData, trainLabels)\n",
        "\n",
        "predictions = classifier.predict(testData)\n",
        "\n",
        "print(\"\\nTEST ACCURACY: {0:0.4f}%\".format(accuracy_score(testLabels, predictions)*100))\n",
        "print()\n",
        "\n",
        "# show a final classification report demonstrating the accuracy of the classifier\n",
        "# for each of the digits\n",
        "\n",
        "print(\"EVALUATION ON TESTING DATA:\\n\")\n",
        "print(classification_report(testLabels, predictions))\n",
        "\n",
        "print (\"CONFUSION MATRIX:\\n\")\n",
        "print(confusion_matrix(testLabels, predictions))\n",
        "print()\n",
        "\n",
        "# loop over a few random digits\n",
        "\n",
        "for i in np.random.randint(0, high=len(testLabels), size=(5,)):\n",
        "\n",
        "  # grab the image and classify it\n",
        "\n",
        "  image = testData[i]\n",
        "  prediction = classifier.predict([image])[0]\n",
        "         \n",
        "  # convert the image for a 64-dim array to an 8 x 8 image compatible with OpenCV,\n",
        "  # then resize it to 32 x 32 pixels so we can see it better\n",
        "  ## image = image.reshape((64, 64))\n",
        "  ## image = exposure.rescale_intensity(image, out_range=(0, 255))\n",
        "  ## image = imutils.resize(image, width=32, inter=cv2.INTER_CUBIC)\n",
        "         \n",
        "  # show the prediction\n",
        "         \n",
        "  imgdata = np.array(image, dtype='float')\n",
        "  pixels = imgdata.reshape((8,8))\n",
        "  plt.imshow(pixels,cmap='gray')\n",
        "  plt.annotate(prediction,(3,3),bbox={'facecolor':'white'},fontsize=16)\n",
        "  print(\"The digit is : {}\".format(prediction))\n",
        "  #cv2.imshow(\"image\", image)\n",
        "  plt.show()\n",
        "  cv2.waitKey(0)"
      ],
      "metadata": {
        "_cell_guid": "13f6e3e8-d663-40f3-b9e6-f0aa364a53d9",
        "_uuid": "3d093a9bc682ebe45986b3fb5494d9448221e213",
        "collapsed": true,
        "jupyter": {
          "outputs_hidden": true
        },
        "id": "0IHJTY8d3cWX",
        "colab": {
          "base_uri": "https://localhost:8080/",
          "height": 1000
        },
        "outputId": "900823c5-6ff1-46ea-e22d-8a782e95f067"
      },
      "execution_count": 34,
      "outputs": [
        {
          "output_type": "stream",
          "name": "stdout",
          "text": [
            "training data points: 1212\n",
            "validation data points: 135\n",
            "testing data points: 450\n",
            "\n",
            "MAXIMUM ACCURAY VALUE: 99.2593%\n",
            "\n",
            "BEST K VALUE: 1\n",
            "\n",
            "TEST ACCURACY: 98.2222%\n",
            "\n",
            "EVALUATION ON TESTING DATA:\n",
            "\n",
            "              precision    recall  f1-score   support\n",
            "\n",
            "           0       1.00      1.00      1.00        43\n",
            "           1       0.95      1.00      0.97        37\n",
            "           2       1.00      1.00      1.00        38\n",
            "           3       0.98      0.98      0.98        46\n",
            "           4       0.98      0.98      0.98        55\n",
            "           5       0.98      1.00      0.99        59\n",
            "           6       1.00      1.00      1.00        45\n",
            "           7       1.00      0.98      0.99        41\n",
            "           8       0.97      0.95      0.96        38\n",
            "           9       0.96      0.94      0.95        48\n",
            "\n",
            "    accuracy                           0.98       450\n",
            "   macro avg       0.98      0.98      0.98       450\n",
            "weighted avg       0.98      0.98      0.98       450\n",
            "\n",
            "CONFUSION MATRIX:\n",
            "\n",
            "[[43  0  0  0  0  0  0  0  0  0]\n",
            " [ 0 37  0  0  0  0  0  0  0  0]\n",
            " [ 0  0 38  0  0  0  0  0  0  0]\n",
            " [ 0  0  0 45  0  0  0  0  1  0]\n",
            " [ 0  1  0  0 54  0  0  0  0  0]\n",
            " [ 0  0  0  0  0 59  0  0  0  0]\n",
            " [ 0  0  0  0  0  0 45  0  0  0]\n",
            " [ 0  0  0  0  0  0  0 40  0  1]\n",
            " [ 0  1  0  0  0  0  0  0 36  1]\n",
            " [ 0  0  0  1  1  1  0  0  0 45]]\n",
            "\n",
            "The digit is : 4\n"
          ]
        },
        {
          "output_type": "display_data",
          "data": {
            "text/plain": [
              "<Figure size 432x288 with 1 Axes>"
            ],
            "image/png": "[encoded data removed]"
          },
          "metadata": {
            "needs_background": "light"
          }
        },
        {
          "output_type": "stream",
          "name": "stdout",
          "text": [
            "The digit is : 1\n"
          ]
        },
        {
          "output_type": "display_data",
          "data": {
            "text/plain": [
              "<Figure size 432x288 with 1 Axes>"
            ],
            "image/png": "[encoded data removed]"
          },
          "metadata": {
            "needs_background": "light"
          }
        },
        {
          "output_type": "stream",
          "name": "stdout",
          "text": [
            "The digit is : 1\n"
          ]
        },
        {
          "output_type": "display_data",
          "data": {
            "text/plain": [
              "<Figure size 432x288 with 1 Axes>"
            ],
            "image/png": "[encoded data removed]"
          },
          "metadata": {
            "needs_background": "light"
          }
        },
        {
          "output_type": "stream",
          "name": "stdout",
          "text": [
            "The digit is : 3\n"
          ]
        },
        {
          "output_type": "display_data",
          "data": {
            "text/plain": [
              "<Figure size 432x288 with 1 Axes>"
            ],
            "image/png": "[encoded data removed]"
          },
          "metadata": {
            "needs_background": "light"
          }
        },
        {
          "output_type": "stream",
          "name": "stdout",
          "text": [
            "The digit is : 7\n"
          ]
        },
        {
          "output_type": "display_data",
          "data": {
            "text/plain": [
              "<Figure size 432x288 with 1 Axes>"
            ],
            "image/png": "[encoded data removed]"
          },
          "metadata": {
            "needs_background": "light"
          }
        }
      ]
    },
    {
      "cell_type": "code",
      "source": [
        ""
      ],
      "metadata": {
        "id": "0HxWT6LB4bwR"
      },
      "execution_count": null,
      "outputs": []
    }
  ]
}