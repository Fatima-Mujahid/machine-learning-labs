{
  "cells": [
    {
      "cell_type": "markdown",
      "source": [
        "# Machine Learning Lab 7\n",
        "Principal Component Analysis (PCA)"
      ],
      "metadata": {
        "id": "E6E7a8pHg0vr"
      }
    },
    {
      "cell_type": "markdown",
      "source": [
        "**Name:** Fatima Mujahid\n",
        "\n",
        "**Class:** BESE-10B\n",
        "\n",
        "**CMS ID:** 289558\n",
        "\n",
        "**Date:** April 12, 2022"
      ],
      "metadata": {
        "id": "Y0IfBBgXg0Xz"
      }
    },
    {
      "cell_type": "markdown",
      "metadata": {
        "id": "1XtagXqzwzJU"
      },
      "source": [
        "## Principal Component Analysis\n",
        "Principal Component Analysis, or PCA, is a dimensionality-reduction method that is often used to reduce the dimensionality of large data sets, by transforming a large set of variables into a smaller one that still contains most of the information in the large set.\n",
        "\n",
        "In this lab you will apply PCA to reduce the dimensionality of two datasets:\n",
        " - The first dataset is two-dimensional data and the objective is to reduce it to 1D.\n",
        " - The second dataset is a 16-dimensional (8x8) mnist dataset. "
      ]
    },
    {
      "cell_type": "markdown",
      "metadata": {
        "id": "aQJtP125wzJb"
      },
      "source": [
        "## Reduce data from 2D to 1D\n",
        "We are given the following data and the objective is to reduce the dimensions from 2 to 1"
      ]
    },
    {
      "cell_type": "code",
      "execution_count": 108,
      "metadata": {
        "id": "MZNHAGBfwzJc",
        "colab": {
          "base_uri": "https://localhost:8080/",
          "height": 229
        },
        "outputId": "b4d42395-f190-4b57-de2a-3010801c3559"
      },
      "outputs": [
        {
          "output_type": "execute_result",
          "data": {
            "text/plain": [
              "(-4.332879249134067, 14.250346324988804, -2.891929996825529, 6.216534855050493)"
            ]
          },
          "metadata": {},
          "execution_count": 108
        },
        {
          "output_type": "display_data",
          "data": {
            "text/plain": [
              "<Figure size 432x288 with 1 Axes>"
            ],
            "image/png": "[encoded data removed]"
          },
          "metadata": {
            "needs_background": "light"
          }
        }
      ],
      "source": [
        "import numpy as np\n",
        "from matplotlib import pyplot as plt\n",
        "\n",
        "np.random.seed(0)\n",
        "X = np.random.multivariate_normal(mean=[5,2], cov = [[10,4],[4,2]], size=500)\n",
        "\n",
        "plt.plot(X[:,0], X[:,1], '.')\n",
        "plt.axis('scaled')"
      ]
    },
    {
      "cell_type": "code",
      "execution_count": 109,
      "metadata": {
        "id": "BnoTYInswzJe",
        "colab": {
          "base_uri": "https://localhost:8080/"
        },
        "outputId": "2e118f4a-4f82-45e0-baee-10861fdc192a"
      },
      "outputs": [
        {
          "output_type": "stream",
          "name": "stdout",
          "text": [
            "The total variance present in the data is 11.41\n"
          ]
        }
      ],
      "source": [
        "C = np.cov(X.T)\n",
        "total_variance = np.trace(C)\n",
        "print('The total variance present in the data is {:.2f}'.format(total_variance))"
      ]
    },
    {
      "cell_type": "code",
      "execution_count": 110,
      "metadata": {
        "id": "HqWGxo0UwzJf",
        "colab": {
          "base_uri": "https://localhost:8080/"
        },
        "outputId": "0d8b24a0-f0fe-4130-9717-d01233500c7d"
      },
      "outputs": [
        {
          "output_type": "stream",
          "name": "stdout",
          "text": [
            "Keeping the first or second dimension will result in the variance of 9.49 and 1.93 respectively\n",
            "This will result in loss of 1.93 and 9.49 variance respectively\n",
            "We will use PCA to do better than this\n"
          ]
        }
      ],
      "source": [
        "variance_1st_dim = np.cov(X[:,0].T)\n",
        "variance_2nd_dim = np.cov(X[:,1].T)\n",
        "\n",
        "print('Keeping the first or second dimension will result in the variance of {:.2f} and {:.2f} respectively'.format(variance_1st_dim, variance_2nd_dim))\n",
        "print('This will result in loss of {:.2f} and {:.2f} variance respectively'.format(total_variance-variance_1st_dim, total_variance-variance_2nd_dim))\n",
        "print('We will use PCA to do better than this')"
      ]
    },
    {
      "cell_type": "markdown",
      "metadata": {
        "id": "n6174lYiwzJf"
      },
      "source": [
        "### Implement PCA"
      ]
    },
    {
      "cell_type": "code",
      "execution_count": 111,
      "metadata": {
        "id": "c15YAOemwzJg"
      },
      "outputs": [],
      "source": [
        "\n",
        "# todo\n",
        "\n",
        "class PCA():\n",
        "    def __init__(self, X):\n",
        "        \n",
        "        self.dim = X.shape[-1]\n",
        "        \n",
        "        #TODO: Implement PCA\n",
        "        # 1. compute mean of X\n",
        "        self.m = np.mean(X, axis = 0)\n",
        "        \n",
        "        \n",
        "        # 2. Subtract mean from X\n",
        "        Xbar = (X-self.m)\n",
        "        \n",
        "        # 3. Compute covariance and svd to find Principal components\n",
        "        C = np.cov(Xbar.T)\n",
        "        self.V, self.D, _ = np.linalg.svd(C)\n",
        "        \n",
        "        \n",
        "    def projection(self, X, n_pc): # n_pc is the number of components to project onto\n",
        "        if n_pc > self.dim:\n",
        "            print('No of PCs more than the dims')\n",
        "            return -1\n",
        "        \n",
        "        # 1. subtract mean\n",
        "        Xbar = (X-self.m)\n",
        "        \n",
        "        # 2. Project onto V\n",
        "        Z = Xbar.dot(self.V[:,:n_pc])\n",
        "        \n",
        "        \n",
        "        return Z\n",
        "    \n",
        "    def reconstruction(self, Z): # n_pc is the number of components to project onto\n",
        "        n_pc = Z.shape[-1]\n",
        "        \n",
        "        # 1. Reconstruction\n",
        "        X_recon = Z.dot(self.V[:,:n_pc].T) + self.m\n",
        "        \n",
        "        \n",
        "        return X_recon\n"
      ]
    },
    {
      "cell_type": "markdown",
      "metadata": {
        "id": "yNlPMWOVwzJh"
      },
      "source": [
        "### Applying PCA to the above 2D data"
      ]
    },
    {
      "cell_type": "code",
      "execution_count": 112,
      "metadata": {
        "id": "zkReBVMuwzJi"
      },
      "outputs": [],
      "source": [
        "pca_2d = PCA(X)\n",
        "Z = pca_2d.projection(X, 1)\n",
        "X_recon = pca_2d.reconstruction(Z)"
      ]
    },
    {
      "cell_type": "code",
      "execution_count": 113,
      "metadata": {
        "id": "CW8xBOrowzJj",
        "colab": {
          "base_uri": "https://localhost:8080/",
          "height": 297
        },
        "outputId": "bc4aad1b-63e0-4f4f-9012-97c9ffe069fc"
      },
      "outputs": [
        {
          "output_type": "stream",
          "name": "stdout",
          "text": [
            "Keeping the first principal component will result in the variance of 11.07\n",
            "This resulted in loss of 0.34 variance, much better than before\n"
          ]
        },
        {
          "output_type": "display_data",
          "data": {
            "text/plain": [
              "<Figure size 864x576 with 2 Axes>"
            ],
            "image/png": "[encoded data removed]"
          },
          "metadata": {
            "needs_background": "light"
          }
        }
      ],
      "source": [
        "# Plotting the original and reconstructed points\n",
        "f = plt.figure(figsize=[12,8])\n",
        "plt.subplot(221)\n",
        "plt.plot(X[:,0], X[:,1], '.')\n",
        "plt.axis('scaled')\n",
        "plt.xlim(0, 12)\n",
        "plt.ylim(-2, 6)\n",
        "plt.title('Original X')\n",
        "\n",
        "plt.subplot(222)\n",
        "plt.plot(X_recon[:,0], X_recon[:,1], '.')\n",
        "plt.axis('scaled')\n",
        "plt.xlim(0, 12)\n",
        "plt.ylim(-2, 6)\n",
        "plt.title('Reconstructed X');\n",
        "\n",
        "print('Keeping the first principal component will result in the variance of {:.2f}'.format(pca_2d.D[0]))\n",
        "print('This resulted in loss of {:.2f} variance, much better than before'.format(pca_2d.D[1]))"
      ]
    },
    {
      "cell_type": "markdown",
      "metadata": {
        "id": "w0sDTlpRwzJk"
      },
      "source": [
        "## MNIST Dataset"
      ]
    },
    {
      "cell_type": "code",
      "execution_count": 114,
      "metadata": {
        "id": "DYsJQRLPwzJk",
        "colab": {
          "base_uri": "https://localhost:8080/",
          "height": 97
        },
        "outputId": "720d7a4a-6796-4839-a3bc-2f9b52b6fd55"
      },
      "outputs": [
        {
          "output_type": "display_data",
          "data": {
            "text/plain": [
              "<Figure size 1008x288 with 10 Axes>"
            ],
            "image/png": "[encoded data removed]"
          },
          "metadata": {
            "needs_background": "light"
          }
        }
      ],
      "source": [
        "import numpy as np\n",
        "from matplotlib import pyplot as plt\n",
        "from sklearn.datasets import load_digits\n",
        "import numpy as np\n",
        "from matplotlib import pyplot as plt\n",
        "\n",
        "# Loading the dataset\n",
        "from sklearn.datasets import load_digits\n",
        "mnist = load_digits()\n",
        "X = mnist.images\n",
        "\n",
        "# Display some digits\n",
        "plt.figure(figsize = [14,4])\n",
        "for i in range(10):\n",
        "    plt.subplot(1,10,i+1)\n",
        "    plt.imshow(X[i], cmap='gray');\n",
        "    plt.axis('off')"
      ]
    },
    {
      "cell_type": "markdown",
      "metadata": {
        "id": "PZd4Fj56wzJl"
      },
      "source": [
        "### Applying PCA to MNIST image dataset\n",
        "Apply PCA to mnist dataset by first applying PCA using the algorithm implemented above. You will need to vectorize the data before passing it to the class PCA. Each image is of size 8x8, so after vectorization your data matrix size would be mx64, where m is the total number of images. \n",
        "\n",
        "Plot the eigenvalues/variance of data along each principal component. You will notice that only few of the 64 eigenvalues are signifant and therefore you reduce the dimension from 64. Determine the number of principal components/eigen vectors to retain so that your keep 99% of the variance present in the dataset "
      ]
    },
    {
      "cell_type": "code",
      "execution_count": 115,
      "metadata": {
        "id": "_MH617K0wzJm",
        "colab": {
          "base_uri": "https://localhost:8080/",
          "height": 314
        },
        "outputId": "e6b3893f-f975-45f2-f84f-a4bcdecf9275"
      },
      "outputs": [
        {
          "output_type": "display_data",
          "data": {
            "text/plain": [
              "<Figure size 432x288 with 1 Axes>"
            ],
            "image/png": "[encoded data removed]"
          },
          "metadata": {
            "needs_background": "light"
          }
        },
        {
          "output_type": "stream",
          "name": "stdout",
          "text": [
            "\n",
            "Number of principal vectors to retain 99% of variance = 41 (99.010182% variance)\n"
          ]
        }
      ],
      "source": [
        "# todo\n",
        "\n",
        "# vectorizing the data\n",
        "X = np.reshape(X,(-1, 64))\n",
        "\n",
        "# Applying PCA\n",
        "pca_64d = PCA(X)\n",
        "\n",
        "# Plotting the eigenvalues\n",
        "plt.plot(pca_64d.D)\n",
        "plt.xlabel('Principal Components')\n",
        "plt.ylabel('Eigenvalues')\n",
        "plt.show()\n",
        "\n",
        "# Choosing k (number of principal components) to retain 99% variance\n",
        "for k in range(1, 65):\n",
        "  v = sum(pca_64d.D[:k]) / sum(pca_64d.D)\n",
        "  if (v >= 0.99):\n",
        "    break;\n",
        "\n",
        "print('\\nNumber of principal vectors to retain 99% of variance = {0:d} ({1:0.6f}% variance)'.format(k, v * 100)) "
      ]
    },
    {
      "cell_type": "markdown",
      "metadata": {
        "id": "MXaCxVFJwzJm"
      },
      "source": [
        "### Show the reconstructed images\n",
        "Reconstruct the MNIST data using the principal components that will ensure that 99% of the variance is kept."
      ]
    },
    {
      "cell_type": "code",
      "execution_count": 118,
      "metadata": {
        "id": "ximm_0LlwzJm",
        "colab": {
          "base_uri": "https://localhost:8080/",
          "height": 209
        },
        "outputId": "e14fe356-a3fe-41dd-9647-831b25895528"
      },
      "outputs": [
        {
          "output_type": "display_data",
          "data": {
            "text/plain": [
              "<Figure size 1008x288 with 10 Axes>"
            ],
            "image/png": "[encoded data removed]"
          },
          "metadata": {
            "needs_background": "light"
          }
        },
        {
          "output_type": "display_data",
          "data": {
            "text/plain": [
              "<Figure size 1008x288 with 10 Axes>"
            ],
            "image/png": "[encoded data removed]"
          },
          "metadata": {
            "needs_background": "light"
          }
        }
      ],
      "source": [
        "# todo\n",
        "\n",
        "# Reconstructing the data\n",
        "Z = pca_64d.projection(X, 41)\n",
        "X_recon = pca_64d.reconstruction(Z)\n",
        "X_recon = np.reshape(X_recon,(-1, 8, 8))\n",
        "\n",
        "# Display original digits\n",
        "plt.figure(figsize = [14,4])\n",
        "for i in range(10):\n",
        "    plt.subplot(1,10,i+1)\n",
        "    plt.imshow(mnist.images[i], cmap='gray');\n",
        "    plt.axis('off')\n",
        "plt.title('Original X');\n",
        "\n",
        "# Display reconstructed digits\n",
        "plt.figure(figsize = [14,4])\n",
        "for i in range(10):\n",
        "    plt.subplot(1,10,i+1)\n",
        "    plt.imshow(X_recon[i], cmap='gray');\n",
        "    plt.axis('off')\n",
        "plt.title('Reconstructed X');"
      ]
    }
  ],
  "metadata": {
    "kernelspec": {
      "display_name": "Python 3",
      "language": "python",
      "name": "python3"
    },
    "language_info": {
      "codemirror_mode": {
        "name": "ipython",
        "version": 3
      },
      "file_extension": ".py",
      "mimetype": "text/x-python",
      "name": "python",
      "nbconvert_exporter": "python",
      "pygments_lexer": "ipython3",
      "version": "3.8.5"
    },
    "colab": {
      "name": "Lab7_289558_FatimaMujahid.ipynb",
      "provenance": [],
      "collapsed_sections": [
        "1XtagXqzwzJU"
      ]
    }
  },
  "nbformat": 4,
  "nbformat_minor": 0
}